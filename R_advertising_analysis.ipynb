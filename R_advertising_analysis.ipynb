{
 "cells": [
  {
   "cell_type": "markdown",
   "metadata": {},
   "source": [
    "# CRYPTOGRAPHY COURSE ADVERTISING ANALYSIS"
   ]
  },
  {
   "cell_type": "markdown",
   "metadata": {},
   "source": [
    "## DEFINING THE QUESTION \n",
    "\n",
    "* perform analysis to define which customers would be most likely to click on a set of ads online\n",
    "\n",
    "## METRIC FOR SUCCESS\n",
    "\n",
    "* performing extensive data cleaning and analysis\n",
    "\n",
    "## THE CONTEXT \n",
    "\n",
    "* A Kenyan entrepreneur has created an online cryptography course and would want to advertise it on her blog.\n",
    "\n",
    "* She currently targets audiences originating from various countries.\n",
    "\n",
    "* In the past, she ran ads to advertise a related course on the same blog and collected data in the process.\n",
    "\n",
    "* She would now like to employ your services as a Data Science Consultant to create a solution that would allow her to determine whether ads targeted to audiences of certain characteristics i.e. city, male country, ad topic, etc. would click on her ads.\n",
    "\n",
    "## EXPERIMENTAL DESIGN TAKEN\n",
    "\n",
    "* Installing packages and loading libraries needed\n",
    "\n",
    "* Loading the data\n",
    "\n",
    "* Exploratory Data Analysis\n",
    "\n",
    "* Data Cleaning\n",
    "\n",
    "* Visualizations\n",
    "\n",
    "\n",
    "## APPROPRIATENESS OF THE DATA\n",
    "\n",
    "* The columns in the dataset include:\n",
    "  * Daily Time Spent on Site\n",
    "  * Age\n",
    "  * Area Income\n",
    "  * Daily Internet Usage\n",
    "  * Ad Topic Line\n",
    "  * City\n",
    "  * Male\n",
    "  * Country\n",
    "  * Timestamp\n",
    "  * Clicked on Ad"
   ]
  },
  {
   "cell_type": "markdown",
   "metadata": {},
   "source": [
    "## Importing The Libraries"
   ]
  },
  {
   "cell_type": "code",
   "execution_count": 89,
   "metadata": {
    "ExecuteTime": {
     "end_time": "2020-03-10T06:14:40.742603Z",
     "start_time": "2020-03-10T06:14:40.700Z"
    }
   },
   "outputs": [],
   "source": [
    "# install.packages(\"corrplot\")\n",
    "# install.packages(\"rpart.plot\")"
   ]
  },
  {
   "cell_type": "code",
   "execution_count": 90,
   "metadata": {
    "ExecuteTime": {
     "end_time": "2020-03-10T06:14:40.835360Z",
     "start_time": "2020-03-10T06:14:40.707Z"
    }
   },
   "outputs": [],
   "source": [
    "library(data.table)\n",
    "library(moments)\n",
    "library(corrplot)\n",
    "library(dplyr)\n",
    "library(tidyr)\n",
    "library(ggplot2)\n",
    "library(rpart)\n",
    "library(\"rpart.plot\")\n",
    "library(caret)"
   ]
  },
  {
   "cell_type": "markdown",
   "metadata": {},
   "source": [
    "## Loading and Reading The Dataset"
   ]
  },
  {
   "cell_type": "code",
   "execution_count": 91,
   "metadata": {
    "ExecuteTime": {
     "end_time": "2020-03-10T06:14:40.971990Z",
     "start_time": "2020-03-10T06:14:40.718Z"
    },
    "scrolled": true
   },
   "outputs": [
    {
     "data": {
      "text/html": [
       "<table>\n",
       "<thead><tr><th scope=col>Daily.Time.Spent.on.Site</th><th scope=col>Age</th><th scope=col>Area.Income</th><th scope=col>Daily.Internet.Usage</th><th scope=col>Ad.Topic.Line</th><th scope=col>City</th><th scope=col>Male</th><th scope=col>Country</th><th scope=col>Timestamp</th><th scope=col>Clicked.on.Ad</th></tr></thead>\n",
       "<tbody>\n",
       "\t<tr><td>68.95                                </td><td>35                                   </td><td>61833.90                             </td><td>256.09                               </td><td>Cloned 5thgeneration orchestration   </td><td>Wrightburgh                          </td><td>0                                    </td><td>Tunisia                              </td><td>2016-03-27 00:53:11                  </td><td>0                                    </td></tr>\n",
       "\t<tr><td>80.23                                </td><td>31                                   </td><td>68441.85                             </td><td>193.77                               </td><td>Monitored national standardization   </td><td>West Jodi                            </td><td>1                                    </td><td>Nauru                                </td><td>2016-04-04 01:39:02                  </td><td>0                                    </td></tr>\n",
       "\t<tr><td>69.47                                </td><td>26                                   </td><td>59785.94                             </td><td>236.50                               </td><td>Organic bottom-line service-desk     </td><td>Davidton                             </td><td>0                                    </td><td>San Marino                           </td><td>2016-03-13 20:35:42                  </td><td>0                                    </td></tr>\n",
       "\t<tr><td>74.15                                </td><td>29                                   </td><td>54806.18                             </td><td>245.89                               </td><td>Triple-buffered reciprocal time-frame</td><td>West Terrifurt                       </td><td>1                                    </td><td>Italy                                </td><td>2016-01-10 02:31:19                  </td><td>0                                    </td></tr>\n",
       "\t<tr><td>68.37                                </td><td>35                                   </td><td>73889.99                             </td><td>225.58                               </td><td>Robust logistical utilization        </td><td>South Manuel                         </td><td>0                                    </td><td>Iceland                              </td><td>2016-06-03 03:36:18                  </td><td>0                                    </td></tr>\n",
       "\t<tr><td>59.99                                </td><td>23                                   </td><td>59761.56                             </td><td>226.74                               </td><td>Sharable client-driven software      </td><td>Jamieberg                            </td><td>1                                    </td><td>Norway                               </td><td>2016-05-19 14:30:17                  </td><td>0                                    </td></tr>\n",
       "</tbody>\n",
       "</table>\n"
      ],
      "text/latex": [
       "\\begin{tabular}{r|llllllllll}\n",
       " Daily.Time.Spent.on.Site & Age & Area.Income & Daily.Internet.Usage & Ad.Topic.Line & City & Male & Country & Timestamp & Clicked.on.Ad\\\\\n",
       "\\hline\n",
       "\t 68.95                                 & 35                                    & 61833.90                              & 256.09                                & Cloned 5thgeneration orchestration    & Wrightburgh                           & 0                                     & Tunisia                               & 2016-03-27 00:53:11                   & 0                                    \\\\\n",
       "\t 80.23                                 & 31                                    & 68441.85                              & 193.77                                & Monitored national standardization    & West Jodi                             & 1                                     & Nauru                                 & 2016-04-04 01:39:02                   & 0                                    \\\\\n",
       "\t 69.47                                 & 26                                    & 59785.94                              & 236.50                                & Organic bottom-line service-desk      & Davidton                              & 0                                     & San Marino                            & 2016-03-13 20:35:42                   & 0                                    \\\\\n",
       "\t 74.15                                 & 29                                    & 54806.18                              & 245.89                                & Triple-buffered reciprocal time-frame & West Terrifurt                        & 1                                     & Italy                                 & 2016-01-10 02:31:19                   & 0                                    \\\\\n",
       "\t 68.37                                 & 35                                    & 73889.99                              & 225.58                                & Robust logistical utilization         & South Manuel                          & 0                                     & Iceland                               & 2016-06-03 03:36:18                   & 0                                    \\\\\n",
       "\t 59.99                                 & 23                                    & 59761.56                              & 226.74                                & Sharable client-driven software       & Jamieberg                             & 1                                     & Norway                                & 2016-05-19 14:30:17                   & 0                                    \\\\\n",
       "\\end{tabular}\n"
      ],
      "text/markdown": [
       "\n",
       "| Daily.Time.Spent.on.Site | Age | Area.Income | Daily.Internet.Usage | Ad.Topic.Line | City | Male | Country | Timestamp | Clicked.on.Ad |\n",
       "|---|---|---|---|---|---|---|---|---|---|\n",
       "| 68.95                                 | 35                                    | 61833.90                              | 256.09                                | Cloned 5thgeneration orchestration    | Wrightburgh                           | 0                                     | Tunisia                               | 2016-03-27 00:53:11                   | 0                                     |\n",
       "| 80.23                                 | 31                                    | 68441.85                              | 193.77                                | Monitored national standardization    | West Jodi                             | 1                                     | Nauru                                 | 2016-04-04 01:39:02                   | 0                                     |\n",
       "| 69.47                                 | 26                                    | 59785.94                              | 236.50                                | Organic bottom-line service-desk      | Davidton                              | 0                                     | San Marino                            | 2016-03-13 20:35:42                   | 0                                     |\n",
       "| 74.15                                 | 29                                    | 54806.18                              | 245.89                                | Triple-buffered reciprocal time-frame | West Terrifurt                        | 1                                     | Italy                                 | 2016-01-10 02:31:19                   | 0                                     |\n",
       "| 68.37                                 | 35                                    | 73889.99                              | 225.58                                | Robust logistical utilization         | South Manuel                          | 0                                     | Iceland                               | 2016-06-03 03:36:18                   | 0                                     |\n",
       "| 59.99                                 | 23                                    | 59761.56                              | 226.74                                | Sharable client-driven software       | Jamieberg                             | 1                                     | Norway                                | 2016-05-19 14:30:17                   | 0                                     |\n",
       "\n"
      ],
      "text/plain": [
       "  Daily.Time.Spent.on.Site Age Area.Income Daily.Internet.Usage\n",
       "1 68.95                    35  61833.90    256.09              \n",
       "2 80.23                    31  68441.85    193.77              \n",
       "3 69.47                    26  59785.94    236.50              \n",
       "4 74.15                    29  54806.18    245.89              \n",
       "5 68.37                    35  73889.99    225.58              \n",
       "6 59.99                    23  59761.56    226.74              \n",
       "  Ad.Topic.Line                         City           Male Country   \n",
       "1 Cloned 5thgeneration orchestration    Wrightburgh    0    Tunisia   \n",
       "2 Monitored national standardization    West Jodi      1    Nauru     \n",
       "3 Organic bottom-line service-desk      Davidton       0    San Marino\n",
       "4 Triple-buffered reciprocal time-frame West Terrifurt 1    Italy     \n",
       "5 Robust logistical utilization         South Manuel   0    Iceland   \n",
       "6 Sharable client-driven software       Jamieberg      1    Norway    \n",
       "  Timestamp           Clicked.on.Ad\n",
       "1 2016-03-27 00:53:11 0            \n",
       "2 2016-04-04 01:39:02 0            \n",
       "3 2016-03-13 20:35:42 0            \n",
       "4 2016-01-10 02:31:19 0            \n",
       "5 2016-06-03 03:36:18 0            \n",
       "6 2016-05-19 14:30:17 0            "
      ]
     },
     "metadata": {},
     "output_type": "display_data"
    }
   ],
   "source": [
    "df = read.csv(\"advertising.csv\")\n",
    "head(df)"
   ]
  },
  {
   "cell_type": "code",
   "execution_count": 92,
   "metadata": {
    "ExecuteTime": {
     "end_time": "2020-03-10T06:14:41.052777Z",
     "start_time": "2020-03-10T06:14:40.724Z"
    }
   },
   "outputs": [
    {
     "data": {
      "text/html": [
       "<table>\n",
       "<thead><tr><th></th><th scope=col>Daily.Time.Spent.on.Site</th><th scope=col>Age</th><th scope=col>Area.Income</th><th scope=col>Daily.Internet.Usage</th><th scope=col>Ad.Topic.Line</th><th scope=col>City</th><th scope=col>Male</th><th scope=col>Country</th><th scope=col>Timestamp</th><th scope=col>Clicked.on.Ad</th></tr></thead>\n",
       "<tbody>\n",
       "\t<tr><th scope=row>995</th><td>43.70                               </td><td>28                                  </td><td>63126.96                            </td><td>173.01                              </td><td>Front-line bifurcated ability       </td><td>Nicholasland                        </td><td>0                                   </td><td>Mayotte                             </td><td>2016-04-04 03:57:48                 </td><td>1                                   </td></tr>\n",
       "\t<tr><th scope=row>996</th><td>72.97                               </td><td>30                                  </td><td>71384.57                            </td><td>208.58                              </td><td>Fundamental modular algorithm       </td><td>Duffystad                           </td><td>1                                   </td><td>Lebanon                             </td><td>2016-02-11 21:49:00                 </td><td>1                                   </td></tr>\n",
       "\t<tr><th scope=row>997</th><td>51.30                               </td><td>45                                  </td><td>67782.17                            </td><td>134.42                              </td><td>Grass-roots cohesive monitoring     </td><td>New Darlene                         </td><td>1                                   </td><td>Bosnia and Herzegovina              </td><td>2016-04-22 02:07:01                 </td><td>1                                   </td></tr>\n",
       "\t<tr><th scope=row>998</th><td>51.63                               </td><td>51                                  </td><td>42415.72                            </td><td>120.37                              </td><td>Expanded intangible solution        </td><td>South Jessica                       </td><td>1                                   </td><td>Mongolia                            </td><td>2016-02-01 17:24:57                 </td><td>1                                   </td></tr>\n",
       "\t<tr><th scope=row>999</th><td>55.55                               </td><td>19                                  </td><td>41920.79                            </td><td>187.95                              </td><td>Proactive bandwidth-monitored policy</td><td>West Steven                         </td><td>0                                   </td><td>Guatemala                           </td><td>2016-03-24 02:35:54                 </td><td>0                                   </td></tr>\n",
       "\t<tr><th scope=row>1000</th><td>45.01                               </td><td>26                                  </td><td>29875.80                            </td><td>178.35                              </td><td>Virtual 5thgeneration emulation     </td><td>Ronniemouth                         </td><td>0                                   </td><td>Brazil                              </td><td>2016-06-03 21:43:21                 </td><td>1                                   </td></tr>\n",
       "</tbody>\n",
       "</table>\n"
      ],
      "text/latex": [
       "\\begin{tabular}{r|llllllllll}\n",
       "  & Daily.Time.Spent.on.Site & Age & Area.Income & Daily.Internet.Usage & Ad.Topic.Line & City & Male & Country & Timestamp & Clicked.on.Ad\\\\\n",
       "\\hline\n",
       "\t995 & 43.70                                & 28                                   & 63126.96                             & 173.01                               & Front-line bifurcated ability        & Nicholasland                         & 0                                    & Mayotte                              & 2016-04-04 03:57:48                  & 1                                   \\\\\n",
       "\t996 & 72.97                                & 30                                   & 71384.57                             & 208.58                               & Fundamental modular algorithm        & Duffystad                            & 1                                    & Lebanon                              & 2016-02-11 21:49:00                  & 1                                   \\\\\n",
       "\t997 & 51.30                                & 45                                   & 67782.17                             & 134.42                               & Grass-roots cohesive monitoring      & New Darlene                          & 1                                    & Bosnia and Herzegovina               & 2016-04-22 02:07:01                  & 1                                   \\\\\n",
       "\t998 & 51.63                                & 51                                   & 42415.72                             & 120.37                               & Expanded intangible solution         & South Jessica                        & 1                                    & Mongolia                             & 2016-02-01 17:24:57                  & 1                                   \\\\\n",
       "\t999 & 55.55                                & 19                                   & 41920.79                             & 187.95                               & Proactive bandwidth-monitored policy & West Steven                          & 0                                    & Guatemala                            & 2016-03-24 02:35:54                  & 0                                   \\\\\n",
       "\t1000 & 45.01                                & 26                                   & 29875.80                             & 178.35                               & Virtual 5thgeneration emulation      & Ronniemouth                          & 0                                    & Brazil                               & 2016-06-03 21:43:21                  & 1                                   \\\\\n",
       "\\end{tabular}\n"
      ],
      "text/markdown": [
       "\n",
       "| <!--/--> | Daily.Time.Spent.on.Site | Age | Area.Income | Daily.Internet.Usage | Ad.Topic.Line | City | Male | Country | Timestamp | Clicked.on.Ad |\n",
       "|---|---|---|---|---|---|---|---|---|---|---|\n",
       "| 995 | 43.70                                | 28                                   | 63126.96                             | 173.01                               | Front-line bifurcated ability        | Nicholasland                         | 0                                    | Mayotte                              | 2016-04-04 03:57:48                  | 1                                    |\n",
       "| 996 | 72.97                                | 30                                   | 71384.57                             | 208.58                               | Fundamental modular algorithm        | Duffystad                            | 1                                    | Lebanon                              | 2016-02-11 21:49:00                  | 1                                    |\n",
       "| 997 | 51.30                                | 45                                   | 67782.17                             | 134.42                               | Grass-roots cohesive monitoring      | New Darlene                          | 1                                    | Bosnia and Herzegovina               | 2016-04-22 02:07:01                  | 1                                    |\n",
       "| 998 | 51.63                                | 51                                   | 42415.72                             | 120.37                               | Expanded intangible solution         | South Jessica                        | 1                                    | Mongolia                             | 2016-02-01 17:24:57                  | 1                                    |\n",
       "| 999 | 55.55                                | 19                                   | 41920.79                             | 187.95                               | Proactive bandwidth-monitored policy | West Steven                          | 0                                    | Guatemala                            | 2016-03-24 02:35:54                  | 0                                    |\n",
       "| 1000 | 45.01                                | 26                                   | 29875.80                             | 178.35                               | Virtual 5thgeneration emulation      | Ronniemouth                          | 0                                    | Brazil                               | 2016-06-03 21:43:21                  | 1                                    |\n",
       "\n"
      ],
      "text/plain": [
       "     Daily.Time.Spent.on.Site Age Area.Income Daily.Internet.Usage\n",
       "995  43.70                    28  63126.96    173.01              \n",
       "996  72.97                    30  71384.57    208.58              \n",
       "997  51.30                    45  67782.17    134.42              \n",
       "998  51.63                    51  42415.72    120.37              \n",
       "999  55.55                    19  41920.79    187.95              \n",
       "1000 45.01                    26  29875.80    178.35              \n",
       "     Ad.Topic.Line                        City          Male\n",
       "995  Front-line bifurcated ability        Nicholasland  0   \n",
       "996  Fundamental modular algorithm        Duffystad     1   \n",
       "997  Grass-roots cohesive monitoring      New Darlene   1   \n",
       "998  Expanded intangible solution         South Jessica 1   \n",
       "999  Proactive bandwidth-monitored policy West Steven   0   \n",
       "1000 Virtual 5thgeneration emulation      Ronniemouth   0   \n",
       "     Country                Timestamp           Clicked.on.Ad\n",
       "995  Mayotte                2016-04-04 03:57:48 1            \n",
       "996  Lebanon                2016-02-11 21:49:00 1            \n",
       "997  Bosnia and Herzegovina 2016-04-22 02:07:01 1            \n",
       "998  Mongolia               2016-02-01 17:24:57 1            \n",
       "999  Guatemala              2016-03-24 02:35:54 0            \n",
       "1000 Brazil                 2016-06-03 21:43:21 1            "
      ]
     },
     "metadata": {},
     "output_type": "display_data"
    }
   ],
   "source": [
    "tail(df)"
   ]
  },
  {
   "cell_type": "markdown",
   "metadata": {},
   "source": [
    "## Data Cleaning and Data Exploration"
   ]
  },
  {
   "cell_type": "code",
   "execution_count": 93,
   "metadata": {
    "ExecuteTime": {
     "end_time": "2020-03-10T06:14:41.124580Z",
     "start_time": "2020-03-10T06:14:40.737Z"
    }
   },
   "outputs": [
    {
     "data": {
      "text/html": [
       "<dl class=dl-horizontal>\n",
       "\t<dt>Daily.Time.Spent.on.Site</dt>\n",
       "\t\t<dd>0</dd>\n",
       "\t<dt>Age</dt>\n",
       "\t\t<dd>0</dd>\n",
       "\t<dt>Area.Income</dt>\n",
       "\t\t<dd>0</dd>\n",
       "\t<dt>Daily.Internet.Usage</dt>\n",
       "\t\t<dd>0</dd>\n",
       "\t<dt>Ad.Topic.Line</dt>\n",
       "\t\t<dd>0</dd>\n",
       "\t<dt>City</dt>\n",
       "\t\t<dd>0</dd>\n",
       "\t<dt>Male</dt>\n",
       "\t\t<dd>0</dd>\n",
       "\t<dt>Country</dt>\n",
       "\t\t<dd>0</dd>\n",
       "\t<dt>Timestamp</dt>\n",
       "\t\t<dd>0</dd>\n",
       "\t<dt>Clicked.on.Ad</dt>\n",
       "\t\t<dd>0</dd>\n",
       "</dl>\n"
      ],
      "text/latex": [
       "\\begin{description*}\n",
       "\\item[Daily.Time.Spent.on.Site] 0\n",
       "\\item[Age] 0\n",
       "\\item[Area.Income] 0\n",
       "\\item[Daily.Internet.Usage] 0\n",
       "\\item[Ad.Topic.Line] 0\n",
       "\\item[City] 0\n",
       "\\item[Male] 0\n",
       "\\item[Country] 0\n",
       "\\item[Timestamp] 0\n",
       "\\item[Clicked.on.Ad] 0\n",
       "\\end{description*}\n"
      ],
      "text/markdown": [
       "Daily.Time.Spent.on.Site\n",
       ":   0Age\n",
       ":   0Area.Income\n",
       ":   0Daily.Internet.Usage\n",
       ":   0Ad.Topic.Line\n",
       ":   0City\n",
       ":   0Male\n",
       ":   0Country\n",
       ":   0Timestamp\n",
       ":   0Clicked.on.Ad\n",
       ":   0\n",
       "\n"
      ],
      "text/plain": [
       "Daily.Time.Spent.on.Site                      Age              Area.Income \n",
       "                       0                        0                        0 \n",
       "    Daily.Internet.Usage            Ad.Topic.Line                     City \n",
       "                       0                        0                        0 \n",
       "                    Male                  Country                Timestamp \n",
       "                       0                        0                        0 \n",
       "           Clicked.on.Ad \n",
       "                       0 "
      ]
     },
     "metadata": {},
     "output_type": "display_data"
    }
   ],
   "source": [
    "colSums(is.na(df))"
   ]
  },
  {
   "cell_type": "markdown",
   "metadata": {},
   "source": [
    "* the dataset appears to have no null values,this is a clean dataset*"
   ]
  },
  {
   "cell_type": "code",
   "execution_count": 94,
   "metadata": {
    "ExecuteTime": {
     "end_time": "2020-03-10T06:14:41.344991Z",
     "start_time": "2020-03-10T06:14:40.749Z"
    },
    "scrolled": false
   },
   "outputs": [
    {
     "data": {
      "image/png": "[encoded data removed]",
      "text/plain": [
       "Plot with title \"numeric variable for comparison\""
      ]
     },
     "metadata": {},
     "output_type": "display_data"
    }
   ],
   "source": [
    "timespent <- df$Daily.Time.Spent.on.Site\n",
    "age <- df$Age\n",
    "internetusage <- df$Daily.Internet.Usage # code for subsetting the columns \n",
    "\n",
    "boxplot(timespent,age,internetusage,\n",
    "        main = 'numeric variable for comparison',\n",
    "        at = c(1,2,3),\n",
    "        names = c(\"Time_Spent\", \"Age\",\"Internet_Usage\"),\n",
    "        horizontal = TRUE,\n",
    "        col = c(\"Orange\",\"Red\",\"Blue\"),\n",
    "        las = 2\n",
    "       )"
   ]
  },
  {
   "cell_type": "markdown",
   "metadata": {},
   "source": [
    "* boxplots of the age,time spent on site,and daily internet usage showing no occurence of outliers in the columns*"
   ]
  },
  {
   "cell_type": "code",
   "execution_count": 95,
   "metadata": {
    "ExecuteTime": {
     "end_time": "2020-03-10T06:14:41.492597Z",
     "start_time": "2020-03-10T06:14:40.763Z"
    },
    "scrolled": false
   },
   "outputs": [
    {
     "data": {
      "image/png": "[encoded data removed]",
      "text/plain": [
       "plot without title"
      ]
     },
     "metadata": {},
     "output_type": "display_data"
    }
   ],
   "source": [
    "income <- df$Area.Income\n",
    "boxplot(income,\n",
    "       col = c(\"Purple\"),\n",
    "       names = c(\"income\"),\n",
    "       horizontal = TRUE \n",
    "       )"
   ]
  },
  {
   "cell_type": "markdown",
   "metadata": {},
   "source": [
    "*the income column is displaying occurence of outliers on the lower end of the income spectrum*"
   ]
  },
  {
   "cell_type": "code",
   "execution_count": 96,
   "metadata": {
    "ExecuteTime": {
     "end_time": "2020-03-10T06:14:41.588342Z",
     "start_time": "2020-03-10T06:14:40.772Z"
    }
   },
   "outputs": [
    {
     "data": {
      "text/html": [
       "<ol class=list-inline>\n",
       "\t<li>17709.98</li>\n",
       "\t<li>18819.34</li>\n",
       "\t<li>15598.29</li>\n",
       "\t<li>15879.1</li>\n",
       "\t<li>14548.06</li>\n",
       "\t<li>13996.5</li>\n",
       "\t<li>14775.5</li>\n",
       "\t<li>18368.57</li>\n",
       "</ol>\n"
      ],
      "text/latex": [
       "\\begin{enumerate*}\n",
       "\\item 17709.98\n",
       "\\item 18819.34\n",
       "\\item 15598.29\n",
       "\\item 15879.1\n",
       "\\item 14548.06\n",
       "\\item 13996.5\n",
       "\\item 14775.5\n",
       "\\item 18368.57\n",
       "\\end{enumerate*}\n"
      ],
      "text/markdown": [
       "1. 17709.98\n",
       "2. 18819.34\n",
       "3. 15598.29\n",
       "4. 15879.1\n",
       "5. 14548.06\n",
       "6. 13996.5\n",
       "7. 14775.5\n",
       "8. 18368.57\n",
       "\n",
       "\n"
      ],
      "text/plain": [
       "[1] 17709.98 18819.34 15598.29 15879.10 14548.06 13996.50 14775.50 18368.57"
      ]
     },
     "metadata": {},
     "output_type": "display_data"
    }
   ],
   "source": [
    "boxplot.stats(income)$out # returns the values of the ourliers in the column"
   ]
  },
  {
   "cell_type": "markdown",
   "metadata": {},
   "source": [
    "* above I displayed the oultier values,in this case their are 8 outliers in the income column all of which are below the low end cutoff point of 20,000\n",
    "\n",
    "* I will now attempt to remove the outliers below"
   ]
  },
  {
   "cell_type": "code",
   "execution_count": 97,
   "metadata": {
    "ExecuteTime": {
     "end_time": "2020-03-10T06:14:41.660149Z",
     "start_time": "2020-03-10T06:14:40.781Z"
    }
   },
   "outputs": [],
   "source": [
    "outliers <- boxplot(income,plot=FALSE)$out\n",
    "\n",
    "x <- df\n",
    "x <- x[-which(income %in% outliers),]"
   ]
  },
  {
   "cell_type": "code",
   "execution_count": 98,
   "metadata": {
    "ExecuteTime": {
     "end_time": "2020-03-10T06:14:41.734959Z",
     "start_time": "2020-03-10T06:14:40.788Z"
    },
    "scrolled": true
   },
   "outputs": [
    {
     "data": {
      "text/html": [
       "<table>\n",
       "<thead><tr><th scope=col>Daily.Time.Spent.on.Site</th><th scope=col>Age</th><th scope=col>Area.Income</th><th scope=col>Daily.Internet.Usage</th><th scope=col>Ad.Topic.Line</th><th scope=col>City</th><th scope=col>Male</th><th scope=col>Country</th><th scope=col>Timestamp</th><th scope=col>Clicked.on.Ad</th></tr></thead>\n",
       "<tbody>\n",
       "\t<tr><td>68.95                                </td><td>35                                   </td><td>61833.90                             </td><td>256.09                               </td><td>Cloned 5thgeneration orchestration   </td><td>Wrightburgh                          </td><td>0                                    </td><td>Tunisia                              </td><td>2016-03-27 00:53:11                  </td><td>0                                    </td></tr>\n",
       "\t<tr><td>80.23                                </td><td>31                                   </td><td>68441.85                             </td><td>193.77                               </td><td>Monitored national standardization   </td><td>West Jodi                            </td><td>1                                    </td><td>Nauru                                </td><td>2016-04-04 01:39:02                  </td><td>0                                    </td></tr>\n",
       "\t<tr><td>69.47                                </td><td>26                                   </td><td>59785.94                             </td><td>236.50                               </td><td>Organic bottom-line service-desk     </td><td>Davidton                             </td><td>0                                    </td><td>San Marino                           </td><td>2016-03-13 20:35:42                  </td><td>0                                    </td></tr>\n",
       "\t<tr><td>74.15                                </td><td>29                                   </td><td>54806.18                             </td><td>245.89                               </td><td>Triple-buffered reciprocal time-frame</td><td>West Terrifurt                       </td><td>1                                    </td><td>Italy                                </td><td>2016-01-10 02:31:19                  </td><td>0                                    </td></tr>\n",
       "\t<tr><td>68.37                                </td><td>35                                   </td><td>73889.99                             </td><td>225.58                               </td><td>Robust logistical utilization        </td><td>South Manuel                         </td><td>0                                    </td><td>Iceland                              </td><td>2016-06-03 03:36:18                  </td><td>0                                    </td></tr>\n",
       "\t<tr><td>59.99                                </td><td>23                                   </td><td>59761.56                             </td><td>226.74                               </td><td>Sharable client-driven software      </td><td>Jamieberg                            </td><td>1                                    </td><td>Norway                               </td><td>2016-05-19 14:30:17                  </td><td>0                                    </td></tr>\n",
       "</tbody>\n",
       "</table>\n"
      ],
      "text/latex": [
       "\\begin{tabular}{r|llllllllll}\n",
       " Daily.Time.Spent.on.Site & Age & Area.Income & Daily.Internet.Usage & Ad.Topic.Line & City & Male & Country & Timestamp & Clicked.on.Ad\\\\\n",
       "\\hline\n",
       "\t 68.95                                 & 35                                    & 61833.90                              & 256.09                                & Cloned 5thgeneration orchestration    & Wrightburgh                           & 0                                     & Tunisia                               & 2016-03-27 00:53:11                   & 0                                    \\\\\n",
       "\t 80.23                                 & 31                                    & 68441.85                              & 193.77                                & Monitored national standardization    & West Jodi                             & 1                                     & Nauru                                 & 2016-04-04 01:39:02                   & 0                                    \\\\\n",
       "\t 69.47                                 & 26                                    & 59785.94                              & 236.50                                & Organic bottom-line service-desk      & Davidton                              & 0                                     & San Marino                            & 2016-03-13 20:35:42                   & 0                                    \\\\\n",
       "\t 74.15                                 & 29                                    & 54806.18                              & 245.89                                & Triple-buffered reciprocal time-frame & West Terrifurt                        & 1                                     & Italy                                 & 2016-01-10 02:31:19                   & 0                                    \\\\\n",
       "\t 68.37                                 & 35                                    & 73889.99                              & 225.58                                & Robust logistical utilization         & South Manuel                          & 0                                     & Iceland                               & 2016-06-03 03:36:18                   & 0                                    \\\\\n",
       "\t 59.99                                 & 23                                    & 59761.56                              & 226.74                                & Sharable client-driven software       & Jamieberg                             & 1                                     & Norway                                & 2016-05-19 14:30:17                   & 0                                    \\\\\n",
       "\\end{tabular}\n"
      ],
      "text/markdown": [
       "\n",
       "| Daily.Time.Spent.on.Site | Age | Area.Income | Daily.Internet.Usage | Ad.Topic.Line | City | Male | Country | Timestamp | Clicked.on.Ad |\n",
       "|---|---|---|---|---|---|---|---|---|---|\n",
       "| 68.95                                 | 35                                    | 61833.90                              | 256.09                                | Cloned 5thgeneration orchestration    | Wrightburgh                           | 0                                     | Tunisia                               | 2016-03-27 00:53:11                   | 0                                     |\n",
       "| 80.23                                 | 31                                    | 68441.85                              | 193.77                                | Monitored national standardization    | West Jodi                             | 1                                     | Nauru                                 | 2016-04-04 01:39:02                   | 0                                     |\n",
       "| 69.47                                 | 26                                    | 59785.94                              | 236.50                                | Organic bottom-line service-desk      | Davidton                              | 0                                     | San Marino                            | 2016-03-13 20:35:42                   | 0                                     |\n",
       "| 74.15                                 | 29                                    | 54806.18                              | 245.89                                | Triple-buffered reciprocal time-frame | West Terrifurt                        | 1                                     | Italy                                 | 2016-01-10 02:31:19                   | 0                                     |\n",
       "| 68.37                                 | 35                                    | 73889.99                              | 225.58                                | Robust logistical utilization         | South Manuel                          | 0                                     | Iceland                               | 2016-06-03 03:36:18                   | 0                                     |\n",
       "| 59.99                                 | 23                                    | 59761.56                              | 226.74                                | Sharable client-driven software       | Jamieberg                             | 1                                     | Norway                                | 2016-05-19 14:30:17                   | 0                                     |\n",
       "\n"
      ],
      "text/plain": [
       "  Daily.Time.Spent.on.Site Age Area.Income Daily.Internet.Usage\n",
       "1 68.95                    35  61833.90    256.09              \n",
       "2 80.23                    31  68441.85    193.77              \n",
       "3 69.47                    26  59785.94    236.50              \n",
       "4 74.15                    29  54806.18    245.89              \n",
       "5 68.37                    35  73889.99    225.58              \n",
       "6 59.99                    23  59761.56    226.74              \n",
       "  Ad.Topic.Line                         City           Male Country   \n",
       "1 Cloned 5thgeneration orchestration    Wrightburgh    0    Tunisia   \n",
       "2 Monitored national standardization    West Jodi      1    Nauru     \n",
       "3 Organic bottom-line service-desk      Davidton       0    San Marino\n",
       "4 Triple-buffered reciprocal time-frame West Terrifurt 1    Italy     \n",
       "5 Robust logistical utilization         South Manuel   0    Iceland   \n",
       "6 Sharable client-driven software       Jamieberg      1    Norway    \n",
       "  Timestamp           Clicked.on.Ad\n",
       "1 2016-03-27 00:53:11 0            \n",
       "2 2016-04-04 01:39:02 0            \n",
       "3 2016-03-13 20:35:42 0            \n",
       "4 2016-01-10 02:31:19 0            \n",
       "5 2016-06-03 03:36:18 0            \n",
       "6 2016-05-19 14:30:17 0            "
      ]
     },
     "metadata": {},
     "output_type": "display_data"
    }
   ],
   "source": [
    "head(x)"
   ]
  },
  {
   "cell_type": "code",
   "execution_count": 99,
   "metadata": {
    "ExecuteTime": {
     "end_time": "2020-03-10T06:14:41.810746Z",
     "start_time": "2020-03-10T06:14:40.793Z"
    }
   },
   "outputs": [],
   "source": [
    "x <- data.frame(x)"
   ]
  },
  {
   "cell_type": "code",
   "execution_count": 100,
   "metadata": {
    "ExecuteTime": {
     "end_time": "2020-03-10T06:14:41.874577Z",
     "start_time": "2020-03-10T06:14:40.803Z"
    }
   },
   "outputs": [
    {
     "data": {
      "text/html": [
       "<ol class=list-inline>\n",
       "\t<li>992</li>\n",
       "\t<li>10</li>\n",
       "</ol>\n"
      ],
      "text/latex": [
       "\\begin{enumerate*}\n",
       "\\item 992\n",
       "\\item 10\n",
       "\\end{enumerate*}\n"
      ],
      "text/markdown": [
       "1. 992\n",
       "2. 10\n",
       "\n",
       "\n"
      ],
      "text/plain": [
       "[1] 992  10"
      ]
     },
     "metadata": {},
     "output_type": "display_data"
    }
   ],
   "source": [
    "dim(x)"
   ]
  },
  {
   "cell_type": "code",
   "execution_count": 101,
   "metadata": {
    "ExecuteTime": {
     "end_time": "2020-03-10T06:14:41.932420Z",
     "start_time": "2020-03-10T06:14:40.809Z"
    }
   },
   "outputs": [
    {
     "data": {
      "text/html": [
       "<ol class=list-inline>\n",
       "\t<li>1000</li>\n",
       "\t<li>10</li>\n",
       "</ol>\n"
      ],
      "text/latex": [
       "\\begin{enumerate*}\n",
       "\\item 1000\n",
       "\\item 10\n",
       "\\end{enumerate*}\n"
      ],
      "text/markdown": [
       "1. 1000\n",
       "2. 10\n",
       "\n",
       "\n"
      ],
      "text/plain": [
       "[1] 1000   10"
      ]
     },
     "metadata": {},
     "output_type": "display_data"
    }
   ],
   "source": [
    "dim(df)"
   ]
  },
  {
   "cell_type": "markdown",
   "metadata": {},
   "source": [
    "cleanx <- x[!duplicated(x)]\n",
    "cleanx"
   ]
  },
  {
   "cell_type": "code",
   "execution_count": 102,
   "metadata": {
    "ExecuteTime": {
     "end_time": "2020-03-10T06:14:41.998249Z",
     "start_time": "2020-03-10T06:14:40.821Z"
    }
   },
   "outputs": [
    {
     "data": {
      "text/html": [
       "<dl class=dl-horizontal>\n",
       "\t<dt>Daily.Time.Spent.on.Site</dt>\n",
       "\t\t<dd>'numeric'</dd>\n",
       "\t<dt>Age</dt>\n",
       "\t\t<dd>'integer'</dd>\n",
       "\t<dt>Area.Income</dt>\n",
       "\t\t<dd>'numeric'</dd>\n",
       "\t<dt>Daily.Internet.Usage</dt>\n",
       "\t\t<dd>'numeric'</dd>\n",
       "\t<dt>Ad.Topic.Line</dt>\n",
       "\t\t<dd>'factor'</dd>\n",
       "\t<dt>City</dt>\n",
       "\t\t<dd>'factor'</dd>\n",
       "\t<dt>Male</dt>\n",
       "\t\t<dd>'integer'</dd>\n",
       "\t<dt>Country</dt>\n",
       "\t\t<dd>'factor'</dd>\n",
       "\t<dt>Timestamp</dt>\n",
       "\t\t<dd>'factor'</dd>\n",
       "\t<dt>Clicked.on.Ad</dt>\n",
       "\t\t<dd>'integer'</dd>\n",
       "</dl>\n"
      ],
      "text/latex": [
       "\\begin{description*}\n",
       "\\item[Daily.Time.Spent.on.Site] 'numeric'\n",
       "\\item[Age] 'integer'\n",
       "\\item[Area.Income] 'numeric'\n",
       "\\item[Daily.Internet.Usage] 'numeric'\n",
       "\\item[Ad.Topic.Line] 'factor'\n",
       "\\item[City] 'factor'\n",
       "\\item[Male] 'integer'\n",
       "\\item[Country] 'factor'\n",
       "\\item[Timestamp] 'factor'\n",
       "\\item[Clicked.on.Ad] 'integer'\n",
       "\\end{description*}\n"
      ],
      "text/markdown": [
       "Daily.Time.Spent.on.Site\n",
       ":   'numeric'Age\n",
       ":   'integer'Area.Income\n",
       ":   'numeric'Daily.Internet.Usage\n",
       ":   'numeric'Ad.Topic.Line\n",
       ":   'factor'City\n",
       ":   'factor'Male\n",
       ":   'integer'Country\n",
       ":   'factor'Timestamp\n",
       ":   'factor'Clicked.on.Ad\n",
       ":   'integer'\n",
       "\n"
      ],
      "text/plain": [
       "Daily.Time.Spent.on.Site                      Age              Area.Income \n",
       "               \"numeric\"                \"integer\"                \"numeric\" \n",
       "    Daily.Internet.Usage            Ad.Topic.Line                     City \n",
       "               \"numeric\"                 \"factor\"                 \"factor\" \n",
       "                    Male                  Country                Timestamp \n",
       "               \"integer\"                 \"factor\"                 \"factor\" \n",
       "           Clicked.on.Ad \n",
       "               \"integer\" "
      ]
     },
     "metadata": {},
     "output_type": "display_data"
    }
   ],
   "source": [
    "sapply(df,class) #method for checking the datatype"
   ]
  },
  {
   "cell_type": "markdown",
   "metadata": {},
   "source": [
    "* above we have displayed the datatypes of the columns and noted that majority of the columns are either factor or numerical columns"
   ]
  },
  {
   "cell_type": "code",
   "execution_count": 103,
   "metadata": {
    "ExecuteTime": {
     "end_time": "2020-03-10T06:14:42.075039Z",
     "start_time": "2020-03-10T06:14:40.826Z"
    }
   },
   "outputs": [
    {
     "data": {
      "text/plain": [
       " Daily.Time.Spent.on.Site      Age         Area.Income    Daily.Internet.Usage\n",
       " Min.   :32.60            Min.   :19.00   Min.   :13996   Min.   :104.8       \n",
       " 1st Qu.:51.36            1st Qu.:29.00   1st Qu.:47032   1st Qu.:138.8       \n",
       " Median :68.22            Median :35.00   Median :57012   Median :183.1       \n",
       " Mean   :65.00            Mean   :36.01   Mean   :55000   Mean   :180.0       \n",
       " 3rd Qu.:78.55            3rd Qu.:42.00   3rd Qu.:65471   3rd Qu.:218.8       \n",
       " Max.   :91.43            Max.   :61.00   Max.   :79485   Max.   :270.0       \n",
       "                                                                              \n",
       "                                 Ad.Topic.Line              City    \n",
       " Adaptive 24hour Graphic Interface      :  1   Lisamouth      :  3  \n",
       " Adaptive asynchronous attitude         :  1   Williamsport   :  3  \n",
       " Adaptive context-sensitive application :  1   Benjaminchester:  2  \n",
       " Adaptive contextually-based methodology:  1   East John      :  2  \n",
       " Adaptive demand-driven knowledgebase   :  1   East Timothy   :  2  \n",
       " Adaptive uniform capability            :  1   Johnstad       :  2  \n",
       " (Other)                                :994   (Other)        :986  \n",
       "      Male                 Country                  Timestamp   Clicked.on.Ad\n",
       " Min.   :0.000   Czech Republic:  9   2016-01-01 02:52:10:  1   Min.   :0.0  \n",
       " 1st Qu.:0.000   France        :  9   2016-01-01 03:35:35:  1   1st Qu.:0.0  \n",
       " Median :0.000   Afghanistan   :  8   2016-01-01 05:31:22:  1   Median :0.5  \n",
       " Mean   :0.481   Australia     :  8   2016-01-01 08:27:06:  1   Mean   :0.5  \n",
       " 3rd Qu.:1.000   Cyprus        :  8   2016-01-01 15:14:24:  1   3rd Qu.:1.0  \n",
       " Max.   :1.000   Greece        :  8   2016-01-01 20:17:49:  1   Max.   :1.0  \n",
       "                 (Other)       :950   (Other)            :994                "
      ]
     },
     "metadata": {},
     "output_type": "display_data"
    }
   ],
   "source": [
    "summary(df)"
   ]
  },
  {
   "cell_type": "markdown",
   "metadata": {},
   "source": [
    "* calculating the measures of central tendency for the dataset"
   ]
  },
  {
   "cell_type": "markdown",
   "metadata": {},
   "source": [
    "## EXPLORATORY DATA ANALYSIS"
   ]
  },
  {
   "cell_type": "markdown",
   "metadata": {},
   "source": [
    "## Univariate Analysis"
   ]
  },
  {
   "cell_type": "code",
   "execution_count": 104,
   "metadata": {
    "ExecuteTime": {
     "end_time": "2020-03-10T06:14:42.134884Z",
     "start_time": "2020-03-10T06:14:40.853Z"
    }
   },
   "outputs": [],
   "source": [
    "getmode <- function(v) { # takes in an oject v\n",
    "   uniqv <- unique(v) #gets the unique values from v \n",
    "   uniqv[which.max(tabulate(match(v, uniqv)))]}  # this line of code arranges the unique values obtained using ht max function and \n",
    "# uses the match method to match the unique value to the original object in v and counts how many times the value appears using the tabulate method"
   ]
  },
  {
   "cell_type": "markdown",
   "metadata": {},
   "source": [
    "* function above will be used to get the mode of the columns*"
   ]
  },
  {
   "cell_type": "code",
   "execution_count": 105,
   "metadata": {
    "ExecuteTime": {
     "end_time": "2020-03-10T06:14:42.185748Z",
     "start_time": "2020-03-10T06:14:40.876Z"
    }
   },
   "outputs": [],
   "source": [
    "ads <- df$Clicked.on.Ad #subsetting the ads column"
   ]
  },
  {
   "cell_type": "code",
   "execution_count": 106,
   "metadata": {
    "ExecuteTime": {
     "end_time": "2020-03-10T06:14:42.254559Z",
     "start_time": "2020-03-10T06:14:40.888Z"
    }
   },
   "outputs": [],
   "source": [
    "counts <- table(ads,age)# creating a table of counts for the ads and age column "
   ]
  },
  {
   "cell_type": "code",
   "execution_count": 107,
   "metadata": {
    "ExecuteTime": {
     "end_time": "2020-03-10T06:14:42.427096Z",
     "start_time": "2020-03-10T06:14:40.896Z"
    }
   },
   "outputs": [
    {
     "data": {
      "image/png": "[encoded data removed]",
      "text/plain": [
       "Plot with title \"Barchart showing clicked ads by age different age groups\""
      ]
     },
     "metadata": {},
     "output_type": "display_data"
    }
   ],
   "source": [
    "barplot(counts,\n",
    "       main=\"Barchart showing clicked ads by age different age groups\",\n",
    "       xlab=\"Age\",\n",
    "       ylab=\"Frequency\",\n",
    "       col = c(\"darkblue\",\"red\"),\n",
    "       legend = rownames(counts) \n",
    "       )"
   ]
  },
  {
   "cell_type": "markdown",
   "metadata": {},
   "source": [
    "#### measures of central tendency for the age column \n"
   ]
  },
  {
   "cell_type": "code",
   "execution_count": 108,
   "metadata": {
    "ExecuteTime": {
     "end_time": "2020-03-10T06:14:42.516863Z",
     "start_time": "2020-03-10T06:14:40.903Z"
    }
   },
   "outputs": [
    {
     "name": "stdout",
     "output_type": "stream",
     "text": [
      "[1] 31\n",
      "[1] 36.009\n",
      "[1] 35\n",
      "[1] 8.785562\n"
     ]
    }
   ],
   "source": [
    "print(getmode(age))# getting the mode  of the age column\n",
    "\n",
    "print(mean(age))# getting the mean of the age column\n",
    "\n",
    "print(median(age))# getting the of median the age column\n",
    "\n",
    "print(sd(age))# getting the standard deviation of the age column"
   ]
  },
  {
   "cell_type": "code",
   "execution_count": 109,
   "metadata": {
    "ExecuteTime": {
     "end_time": "2020-03-10T06:14:42.605622Z",
     "start_time": "2020-03-10T06:14:40.907Z"
    }
   },
   "outputs": [
    {
     "name": "stdout",
     "output_type": "stream",
     "text": [
      "[1] 19 61\n",
      "  0%  25%  50%  75% 100% \n",
      "  19   29   35   42   61 \n",
      "[1] 77.18611\n",
      "[1] 2.595482\n",
      "[1] 0.4784227\n"
     ]
    }
   ],
   "source": [
    "print(range(age)) # getting the range of the age column\n",
    "\n",
    "print(quantile(age))# getting the quantile of the age column\n",
    "\n",
    "print(var(age))# getting the variance of the age column\n",
    "\n",
    "print(kurtosis(age))# getting the kurtosis \n",
    "\n",
    "print(skewness(age))#getting the skewness"
   ]
  },
  {
   "cell_type": "markdown",
   "metadata": {},
   "source": [
    "* above we can see the distribution by age of people who clicked the ads and those who didnt (0 is clicked on ad,1 did not click on the ad)\n",
    "\n",
    "* we can note the distribution is normal but slighty skewed to the left \n",
    "\n",
    "* we can also note that majority of the people who clicked on the ads were below 40 years while most peoplw above 50 did not click on them\n",
    "\n",
    "* calculating the measures of central tendency it appears that the mean age is 36 years while the median age is slightly below that at 35 years\n",
    "\n",
    "* it also appears that the most common age is 31 which is also the age that was most likely to click on the ads\n",
    "\n",
    "* the age column has a standard deviation of 8 years\n",
    "\n",
    "* the age range is between 19 and 61 years while the variance is 77"
   ]
  },
  {
   "cell_type": "code",
   "execution_count": 110,
   "metadata": {
    "ExecuteTime": {
     "end_time": "2020-03-10T06:14:42.774170Z",
     "start_time": "2020-03-10T06:14:40.915Z"
    }
   },
   "outputs": [
    {
     "data": {
      "image/png": "[encoded data removed]",
      "text/plain": [
       "Plot with title \"Histogram of internetusage\""
      ]
     },
     "metadata": {},
     "output_type": "display_data"
    }
   ],
   "source": [
    "hist(internetusage,\n",
    "    col = \"green\",\n",
    "    xlab = \"minutes\")#plotting a histogram of the internet usage column with args color and xlabel"
   ]
  },
  {
   "cell_type": "markdown",
   "metadata": {},
   "source": [
    "* the histogram above indicates a bimodal distribution pertaining to the internet usage of the participants with noticeable peaks in between 100-150 minutes and 200-250 minutes"
   ]
  },
  {
   "cell_type": "markdown",
   "metadata": {},
   "source": [
    "#### measures of central tendency for the internet usage column"
   ]
  },
  {
   "cell_type": "code",
   "execution_count": 111,
   "metadata": {
    "ExecuteTime": {
     "end_time": "2020-03-10T06:14:42.863933Z",
     "start_time": "2020-03-10T06:14:40.922Z"
    }
   },
   "outputs": [
    {
     "name": "stdout",
     "output_type": "stream",
     "text": [
      "[1] 167.22\n",
      "[1] 180.0001\n",
      "[1] 183.13\n",
      "[1] 43.90234\n"
     ]
    }
   ],
   "source": [
    "print(getmode(internetusage))# getting the mode  of the internetusage column\n",
    "\n",
    "print(mean(internetusage))# getting the mean of the internetusage column\n",
    "\n",
    "print(median(internetusage))# getting the of median the internetusage column\n",
    "\n",
    "print(sd(internetusage))# getting the standard deviation of the internetusage column"
   ]
  },
  {
   "cell_type": "markdown",
   "metadata": {},
   "source": [
    "* the measures of central tendency above indicate most people tend to spend atleast 3  hours using the internet with both the mean and median clocking in at 180 min while the mode is at 167 min which is just under 3 hours\n",
    "* the standard deviation is 43 minutes"
   ]
  },
  {
   "cell_type": "code",
   "execution_count": 112,
   "metadata": {
    "ExecuteTime": {
     "end_time": "2020-03-10T06:14:42.958677Z",
     "start_time": "2020-03-10T06:14:40.928Z"
    }
   },
   "outputs": [
    {
     "name": "stdout",
     "output_type": "stream",
     "text": [
      "[1] 104.78 269.96\n",
      "      0%      25%      50%      75%     100% \n",
      "104.7800 138.8300 183.1300 218.7925 269.9600 \n",
      "[1] 1927.415\n",
      "[1] 1.727701\n",
      "[1] -0.03348703\n"
     ]
    }
   ],
   "source": [
    "print(range(internetusage)) # getting the range of the internetusage column\n",
    "\n",
    "print(quantile(internetusage))# getting the quantile of the internetusage column\n",
    "\n",
    "print(var(internetusage))# getting the variance of the internetusage column\n",
    "\n",
    "print(kurtosis(internetusage))# getting the kurtosis \n",
    "\n",
    "print(skewness(internetusage))#getting the skewness"
   ]
  },
  {
   "cell_type": "markdown",
   "metadata": {},
   "source": [
    "* the lowest using user spent 104 minutes or just over an hour and 40 minutes whilst the user who used the internet the most spent 269 minutes or just over 4 hours"
   ]
  },
  {
   "cell_type": "code",
   "execution_count": 113,
   "metadata": {
    "ExecuteTime": {
     "end_time": "2020-03-10T06:14:43.090324Z",
     "start_time": "2020-03-10T06:14:40.937Z"
    }
   },
   "outputs": [
    {
     "data": {
      "image/png": "[encoded data removed]",
      "text/plain": [
       "Plot with title \"Histogram of timespent\""
      ]
     },
     "metadata": {},
     "output_type": "display_data"
    }
   ],
   "source": [
    "hist(timespent,\n",
    "    col= \"lightblue\",\n",
    "    xlab= \"minutes\")"
   ]
  },
  {
   "cell_type": "markdown",
   "metadata": {},
   "source": [
    "* the histogram of time spent on the site appears to be skewed to the right indicating most people spend atleast more than an hour on the site\n",
    "\n",
    "* majority of the people spend between 70 and 85 minutes on the site"
   ]
  },
  {
   "cell_type": "markdown",
   "metadata": {},
   "source": [
    "#### measures of central tendency for the timespent on site"
   ]
  },
  {
   "cell_type": "code",
   "execution_count": 114,
   "metadata": {
    "ExecuteTime": {
     "end_time": "2020-03-10T06:14:43.192053Z",
     "start_time": "2020-03-10T06:14:40.944Z"
    }
   },
   "outputs": [
    {
     "name": "stdout",
     "output_type": "stream",
     "text": [
      "[1] 62.26\n",
      "[1] 65.0002\n",
      "[1] 68.215\n",
      "[1] 15.85361\n"
     ]
    }
   ],
   "source": [
    "print(getmode(timespent))# getting the mode  of the timespent column\n",
    "\n",
    "print(mean(timespent))# getting the mean of the timespent column\n",
    "\n",
    "print(median(timespent))# getting the of median the timespent column\n",
    "\n",
    "print(sd(timespent))# getting the standard deviation of the timespent column"
   ]
  },
  {
   "cell_type": "markdown",
   "metadata": {},
   "source": [
    "* the measures of central tendency indicate most people spent atleast an hour on the site  with the mean,mode and median ranging from 62 for the mode to 68 for the median with a standard deviation of 15 minutes"
   ]
  },
  {
   "cell_type": "code",
   "execution_count": 115,
   "metadata": {
    "ExecuteTime": {
     "end_time": "2020-03-10T06:14:43.289791Z",
     "start_time": "2020-03-10T06:14:40.956Z"
    }
   },
   "outputs": [
    {
     "name": "stdout",
     "output_type": "stream",
     "text": [
      "[1] 32.60 91.43\n",
      "     0%     25%     50%     75%    100% \n",
      "32.6000 51.3600 68.2150 78.5475 91.4300 \n",
      "[1] 251.3371\n",
      "[1] 1.903942\n",
      "[1] -0.3712026\n"
     ]
    }
   ],
   "source": [
    "print(range(timespent)) # getting the range of the timespent column\n",
    "\n",
    "print(quantile(timespent))# getting the quantile of the timespent column\n",
    "\n",
    "print(var(timespent))# getting the variance of the timespent column\n",
    "\n",
    "print(kurtosis(timespent))# getting the kurtosis \n",
    "\n",
    "print(skewness(timespent))#getting the skewness"
   ]
  },
  {
   "cell_type": "markdown",
   "metadata": {},
   "source": [
    "* the user who spent the least time on the site spent just over 30 min whilst the user who spent the most time spent over 1 and a half hours on the site\n",
    "* the variance is 251"
   ]
  },
  {
   "cell_type": "code",
   "execution_count": 116,
   "metadata": {
    "ExecuteTime": {
     "end_time": "2020-03-10T06:14:43.407476Z",
     "start_time": "2020-03-10T06:14:40.965Z"
    },
    "scrolled": false
   },
   "outputs": [
    {
     "data": {
      "image/png": "[encoded data removed]",
      "text/plain": [
       "Plot with title \"Histogram of income\""
      ]
     },
     "metadata": {},
     "output_type": "display_data"
    }
   ],
   "source": [
    "hist(income,\n",
    "    col= \"yellow\")"
   ]
  },
  {
   "cell_type": "code",
   "execution_count": 117,
   "metadata": {
    "ExecuteTime": {
     "end_time": "2020-03-10T06:14:43.484290Z",
     "start_time": "2020-03-10T06:14:40.973Z"
    }
   },
   "outputs": [
    {
     "name": "stdout",
     "output_type": "stream",
     "text": [
      "[1] 61833.9\n",
      "[1] 55000\n",
      "[1] 57012.3\n",
      "[1] 13414.63\n"
     ]
    }
   ],
   "source": [
    "print(getmode(income))# getting the mode  of the income column\n",
    "\n",
    "print(mean(income))# getting the mean of the income column\n",
    "\n",
    "print(median(income))# getting the of median the income column\n",
    "\n",
    "print(sd(income))# getting the standard deviation of the income column"
   ]
  },
  {
   "cell_type": "markdown",
   "metadata": {},
   "source": [
    "* this is indicated above by noticing the mean and median income above the 50000 range whilst the most common income is 61000\n",
    "* the income of the individuals is extremely skewed to the right indicating majority of the users are high income earners"
   ]
  },
  {
   "cell_type": "code",
   "execution_count": 118,
   "metadata": {
    "ExecuteTime": {
     "end_time": "2020-03-10T06:14:43.582010Z",
     "start_time": "2020-03-10T06:14:40.989Z"
    }
   },
   "outputs": [
    {
     "name": "stdout",
     "output_type": "stream",
     "text": [
      "[1] 13996.5 79484.8\n",
      "      0%      25%      50%      75%     100% \n",
      "13996.50 47031.80 57012.30 65470.64 79484.80 \n",
      "[1] 179952406\n",
      "[1] 2.894694\n",
      "[1] -0.6493967\n"
     ]
    }
   ],
   "source": [
    "print(range(income)) # getting the range of the income column\n",
    "\n",
    "print(quantile(income))# getting the quantile of the income column\n",
    "\n",
    "print(var(income))# getting the variance of the income column\n",
    "\n",
    "print(kurtosis(income))# getting the kurtosis \n",
    "\n",
    "print(skewness(income))#getting the skewness"
   ]
  },
  {
   "cell_type": "markdown",
   "metadata": {},
   "source": [
    "* the range of the incomes indicate the lowest income being just under 14,000 while the highest income being just under 80,000 or a range of about 66,000 units\n",
    "* I still don't understand how the variance is that large number,will get back to it "
   ]
  },
  {
   "cell_type": "code",
   "execution_count": null,
   "metadata": {
    "scrolled": true
   },
   "outputs": [],
   "source": []
  },
  {
   "cell_type": "code",
   "execution_count": 119,
   "metadata": {
    "ExecuteTime": {
     "end_time": "2020-03-10T06:14:43.656808Z",
     "start_time": "2020-03-10T06:14:41.006Z"
    }
   },
   "outputs": [
    {
     "data": {
      "text/plain": [
       "country\n",
       "                                        Afghanistan \n",
       "                                                  8 \n",
       "                                            Albania \n",
       "                                                  7 \n",
       "                                            Algeria \n",
       "                                                  6 \n",
       "                                     American Samoa \n",
       "                                                  5 \n",
       "                                            Andorra \n",
       "                                                  2 \n",
       "                                             Angola \n",
       "                                                  4 \n",
       "                                           Anguilla \n",
       "                                                  6 \n",
       "       Antarctica (the territory South of 60 deg S) \n",
       "                                                  3 \n",
       "                                Antigua and Barbuda \n",
       "                                                  5 \n",
       "                                          Argentina \n",
       "                                                  2 \n",
       "                                            Armenia \n",
       "                                                  3 \n",
       "                                              Aruba \n",
       "                                                  1 \n",
       "                                          Australia \n",
       "                                                  8 \n",
       "                                            Austria \n",
       "                                                  5 \n",
       "                                         Azerbaijan \n",
       "                                                  3 \n",
       "                                            Bahamas \n",
       "                                                  7 \n",
       "                                            Bahrain \n",
       "                                                  5 \n",
       "                                         Bangladesh \n",
       "                                                  4 \n",
       "                                           Barbados \n",
       "                                                  5 \n",
       "                                            Belarus \n",
       "                                                  6 \n",
       "                                            Belgium \n",
       "                                                  5 \n",
       "                                             Belize \n",
       "                                                  5 \n",
       "                                              Benin \n",
       "                                                  2 \n",
       "                                            Bermuda \n",
       "                                                  1 \n",
       "                                             Bhutan \n",
       "                                                  2 \n",
       "                                            Bolivia \n",
       "                                                  6 \n",
       "                             Bosnia and Herzegovina \n",
       "                                                  7 \n",
       "                          Bouvet Island (Bouvetoya) \n",
       "                                                  5 \n",
       "                                             Brazil \n",
       "                                                  5 \n",
       "British Indian Ocean Territory (Chagos Archipelago) \n",
       "                                                  1 \n",
       "                             British Virgin Islands \n",
       "                                                  3 \n",
       "                                  Brunei Darussalam \n",
       "                                                  5 \n",
       "                                           Bulgaria \n",
       "                                                  6 \n",
       "                                       Burkina Faso \n",
       "                                                  4 \n",
       "                                            Burundi \n",
       "                                                  7 \n",
       "                                           Cambodia \n",
       "                                                  7 \n",
       "                                           Cameroon \n",
       "                                                  5 \n",
       "                                             Canada \n",
       "                                                  5 \n",
       "                                         Cape Verde \n",
       "                                                  1 \n",
       "                                     Cayman Islands \n",
       "                                                  5 \n",
       "                           Central African Republic \n",
       "                                                  2 \n",
       "                                               Chad \n",
       "                                                  4 \n",
       "                                              Chile \n",
       "                                                  4 \n",
       "                                              China \n",
       "                                                  6 \n",
       "                                   Christmas Island \n",
       "                                                  6 \n",
       "                                           Colombia \n",
       "                                                  2 \n",
       "                                            Comoros \n",
       "                                                  2 \n",
       "                                              Congo \n",
       "                                                  4 \n",
       "                                       Cook Islands \n",
       "                                                  3 \n",
       "                                         Costa Rica \n",
       "                                                  6 \n",
       "                                      Cote d'Ivoire \n",
       "                                                  4 \n",
       "                                            Croatia \n",
       "                                                  6 \n",
       "                                               Cuba \n",
       "                                                  5 \n",
       "                                             Cyprus \n",
       "                                                  8 \n",
       "                                     Czech Republic \n",
       "                                                  9 \n",
       "                                            Denmark \n",
       "                                                  3 \n",
       "                                           Djibouti \n",
       "                                                  2 \n",
       "                                           Dominica \n",
       "                                                  5 \n",
       "                                 Dominican Republic \n",
       "                                                  4 \n",
       "                                            Ecuador \n",
       "                                                  5 \n",
       "                                              Egypt \n",
       "                                                  5 \n",
       "                                        El Salvador \n",
       "                                                  6 \n",
       "                                  Equatorial Guinea \n",
       "                                                  4 \n",
       "                                            Eritrea \n",
       "                                                  7 \n",
       "                                            Estonia \n",
       "                                                  3 \n",
       "                                           Ethiopia \n",
       "                                                  7 \n",
       "                        Falkland Islands (Malvinas) \n",
       "                                                  4 \n",
       "                                      Faroe Islands \n",
       "                                                  3 \n",
       "                                               Fiji \n",
       "                                                  7 \n",
       "                                            Finland \n",
       "                                                  5 \n",
       "                                             France \n",
       "                                                  9 \n",
       "                                      French Guiana \n",
       "                                                  4 \n",
       "                                   French Polynesia \n",
       "                                                  5 \n",
       "                        French Southern Territories \n",
       "                                                  5 \n",
       "                                              Gabon \n",
       "                                                  6 \n",
       "                                             Gambia \n",
       "                                                  2 \n",
       "                                            Georgia \n",
       "                                                  4 \n",
       "                                            Germany \n",
       "                                                  1 \n",
       "                                              Ghana \n",
       "                                                  4 \n",
       "                                          Gibraltar \n",
       "                                                  3 \n",
       "                                             Greece \n",
       "                                                  8 \n",
       "                                          Greenland \n",
       "                                                  5 \n",
       "                                            Grenada \n",
       "                                                  4 \n",
       "                                         Guadeloupe \n",
       "                                                  2 \n",
       "                                               Guam \n",
       "                                                  4 \n",
       "                                          Guatemala \n",
       "                                                  4 \n",
       "                                           Guernsey \n",
       "                                                  3 \n",
       "                                             Guinea \n",
       "                                                  3 \n",
       "                                      Guinea-Bissau \n",
       "                                                  2 \n",
       "                                             Guyana \n",
       "                                                  5 \n",
       "                                              Haiti \n",
       "                                                  2 \n",
       "                  Heard Island and McDonald Islands \n",
       "                                                  3 \n",
       "                      Holy See (Vatican City State) \n",
       "                                                  3 \n",
       "                                           Honduras \n",
       "                                                  5 \n",
       "                                          Hong Kong \n",
       "                                                  6 \n",
       "                                            Hungary \n",
       "                                                  6 \n",
       "                                            Iceland \n",
       "                                                  3 \n",
       "                                              India \n",
       "                                                  2 \n",
       "                                          Indonesia \n",
       "                                                  6 \n",
       "                                               Iran \n",
       "                                                  5 \n",
       "                                            Ireland \n",
       "                                                  3 \n",
       "                                        Isle of Man \n",
       "                                                  3 \n",
       "                                             Israel \n",
       "                                                  4 \n",
       "                                              Italy \n",
       "                                                  5 \n",
       "                                            Jamaica \n",
       "                                                  5 \n",
       "                                              Japan \n",
       "                                                  4 \n",
       "                                             Jersey \n",
       "                                                  6 \n",
       "                                             Jordan \n",
       "                                                  1 \n",
       "                                         Kazakhstan \n",
       "                                                  4 \n",
       "                                              Kenya \n",
       "                                                  4 \n",
       "                                           Kiribati \n",
       "                                                  1 \n",
       "                                              Korea \n",
       "                                                  5 \n",
       "                                             Kuwait \n",
       "                                                  2 \n",
       "                                    Kyrgyz Republic \n",
       "                                                  6 \n",
       "                   Lao People's Democratic Republic \n",
       "                                                  4 \n",
       "                                             Latvia \n",
       "                                                  4 \n",
       "                                            Lebanon \n",
       "                                                  6 \n",
       "                                            Lesotho \n",
       "                                                  1 \n",
       "                                            Liberia \n",
       "                                                  8 \n",
       "                             Libyan Arab Jamahiriya \n",
       "                                                  4 \n",
       "                                      Liechtenstein \n",
       "                                                  6 \n",
       "                                          Lithuania \n",
       "                                                  3 \n",
       "                                         Luxembourg \n",
       "                                                  7 \n",
       "                                              Macao \n",
       "                                                  3 \n",
       "                                          Macedonia \n",
       "                                                  2 \n",
       "                                         Madagascar \n",
       "                                                  6 \n",
       "                                             Malawi \n",
       "                                                  4 \n",
       "                                           Malaysia \n",
       "                                                  3 \n",
       "                                           Maldives \n",
       "                                                  4 \n",
       "                                               Mali \n",
       "                                                  4 \n",
       "                                              Malta \n",
       "                                                  6 \n",
       "                                   Marshall Islands \n",
       "                                                  1 \n",
       "                                         Martinique \n",
       "                                                  4 \n",
       "                                         Mauritania \n",
       "                                                  2 \n",
       "                                          Mauritius \n",
       "                                                  4 \n",
       "                                            Mayotte \n",
       "                                                  6 \n",
       "                                             Mexico \n",
       "                                                  6 \n",
       "                                         Micronesia \n",
       "                                                  8 \n",
       "                                            Moldova \n",
       "                                                  6 \n",
       "                                             Monaco \n",
       "                                                  3 \n",
       "                                           Mongolia \n",
       "                                                  6 \n",
       "                                         Montenegro \n",
       "                                                  2 \n",
       "                                         Montserrat \n",
       "                                                  1 \n",
       "                                            Morocco \n",
       "                                                  3 \n",
       "                                         Mozambique \n",
       "                                                  1 \n",
       "                                            Myanmar \n",
       "                                                  5 \n",
       "                                            Namibia \n",
       "                                                  2 \n",
       "                                              Nauru \n",
       "                                                  3 \n",
       "                                              Nepal \n",
       "                                                  3 \n",
       "                                        Netherlands \n",
       "                                                  4 \n",
       "                               Netherlands Antilles \n",
       "                                                  6 \n",
       "                                      New Caledonia \n",
       "                                                  2 \n",
       "                                        New Zealand \n",
       "                                                  4 \n",
       "                                          Nicaragua \n",
       "                                                  3 \n",
       "                                              Niger \n",
       "                                                  3 \n",
       "                                               Niue \n",
       "                                                  3 \n",
       "                                     Norfolk Island \n",
       "                                                  5 \n",
       "                           Northern Mariana Islands \n",
       "                                                  3 \n",
       "                                             Norway \n",
       "                                                  2 \n",
       "                                           Pakistan \n",
       "                                                  5 \n",
       "                                              Palau \n",
       "                                                  4 \n",
       "                              Palestinian Territory \n",
       "                                                  3 \n",
       "                                             Panama \n",
       "                                                  2 \n",
       "                                   Papua New Guinea \n",
       "                                                  5 \n",
       "                                           Paraguay \n",
       "                                                  3 \n",
       "                                               Peru \n",
       "                                                  8 \n",
       "                                        Philippines \n",
       "                                                  6 \n",
       "                                   Pitcairn Islands \n",
       "                                                  2 \n",
       "                                             Poland \n",
       "                                                  6 \n",
       "                                           Portugal \n",
       "                                                  3 \n",
       "                                        Puerto Rico \n",
       "                                                  6 \n",
       "                                              Qatar \n",
       "                                                  6 \n",
       "                                            Reunion \n",
       "                                                  2 \n",
       "                                            Romania \n",
       "                                                  1 \n",
       "                                 Russian Federation \n",
       "                                                  3 \n",
       "                                             Rwanda \n",
       "                                                  5 \n",
       "                                   Saint Barthelemy \n",
       "                                                  2 \n",
       "                                       Saint Helena \n",
       "                                                  5 \n",
       "                              Saint Kitts and Nevis \n",
       "                                                  1 \n",
       "                                        Saint Lucia \n",
       "                                                  2 \n",
       "                                       Saint Martin \n",
       "                                                  4 \n",
       "                          Saint Pierre and Miquelon \n",
       "                                                  5 \n",
       "                   Saint Vincent and the Grenadines \n",
       "                                                  6 \n",
       "                                              Samoa \n",
       "                                                  6 \n",
       "                                         San Marino \n",
       "                                                  3 \n",
       "                              Sao Tome and Principe \n",
       "                                                  2 \n",
       "                                       Saudi Arabia \n",
       "                                                  4 \n",
       "                                            Senegal \n",
       "                                                  8 \n",
       "                                             Serbia \n",
       "                                                  5 \n",
       "                                         Seychelles \n",
       "                                                  3 \n",
       "                                       Sierra Leone \n",
       "                                                  2 \n",
       "                                          Singapore \n",
       "                                                  6 \n",
       "                         Slovakia (Slovak Republic) \n",
       "                                                  2 \n",
       "                                           Slovenia \n",
       "                                                  1 \n",
       "                                            Somalia \n",
       "                                                  5 \n",
       "                                       South Africa \n",
       "                                                  8 \n",
       "       South Georgia and the South Sandwich Islands \n",
       "                                                  2 \n",
       "                                              Spain \n",
       "                                                  3 \n",
       "                                          Sri Lanka \n",
       "                                                  4 \n",
       "                                              Sudan \n",
       "                                                  2 \n",
       "                                           Suriname \n",
       "                                                  2 \n",
       "                       Svalbard & Jan Mayen Islands \n",
       "                                                  6 \n",
       "                                          Swaziland \n",
       "                                                  2 \n",
       "                                             Sweden \n",
       "                                                  4 \n",
       "                                        Switzerland \n",
       "                                                  4 \n",
       "                               Syrian Arab Republic \n",
       "                                                  3 \n",
       "                                             Taiwan \n",
       "                                                  7 \n",
       "                                         Tajikistan \n",
       "                                                  3 \n",
       "                                           Tanzania \n",
       "                                                  3 \n",
       "                                           Thailand \n",
       "                                                  4 \n",
       "                                        Timor-Leste \n",
       "                                                  5 \n",
       "                                               Togo \n",
       "                                                  3 \n",
       "                                            Tokelau \n",
       "                                                  4 \n",
       "                                              Tonga \n",
       "                                                  5 \n",
       "                                Trinidad and Tobago \n",
       "                                                  3 \n",
       "                                            Tunisia \n",
       "                                                  4 \n",
       "                                             Turkey \n",
       "                                                  8 \n",
       "                                       Turkmenistan \n",
       "                                                  6 \n",
       "                           Turks and Caicos Islands \n",
       "                                                  5 \n",
       "                                             Tuvalu \n",
       "                                                  4 \n",
       "                                             Uganda \n",
       "                                                  4 \n",
       "                                            Ukraine \n",
       "                                                  5 \n",
       "                               United Arab Emirates \n",
       "                                                  6 \n",
       "                                     United Kingdom \n",
       "                                                  3 \n",
       "               United States Minor Outlying Islands \n",
       "                                                  4 \n",
       "                           United States of America \n",
       "                                                  5 \n",
       "                       United States Virgin Islands \n",
       "                                                  4 \n",
       "                                            Uruguay \n",
       "                                                  5 \n",
       "                                         Uzbekistan \n",
       "                                                  2 \n",
       "                                            Vanuatu \n",
       "                                                  6 \n",
       "                                          Venezuela \n",
       "                                                  7 \n",
       "                                            Vietnam \n",
       "                                                  3 \n",
       "                                  Wallis and Futuna \n",
       "                                                  4 \n",
       "                                     Western Sahara \n",
       "                                                  7 \n",
       "                                              Yemen \n",
       "                                                  3 \n",
       "                                             Zambia \n",
       "                                                  4 \n",
       "                                           Zimbabwe \n",
       "                                                  6 "
      ]
     },
     "metadata": {},
     "output_type": "display_data"
    }
   ],
   "source": [
    "country <- df$Country \n",
    "\n",
    "counts2 <- table(country) #creating a table counting the number of occurences of a country\n",
    "counts2"
   ]
  },
  {
   "cell_type": "markdown",
   "metadata": {},
   "source": [
    "### Bivariate Analysis"
   ]
  },
  {
   "cell_type": "code",
   "execution_count": 120,
   "metadata": {
    "ExecuteTime": {
     "end_time": "2020-03-10T06:14:43.727618Z",
     "start_time": "2020-03-10T06:14:41.017Z"
    }
   },
   "outputs": [
    {
     "name": "stdout",
     "output_type": "stream",
     "text": [
      "[1] 66130.81\n",
      "[1] 360.9919\n",
      "[1] 198762.5\n"
     ]
    }
   ],
   "source": [
    "print(cov(income,timespent))\n",
    "\n",
    "print(cov(timespent,internetusage))\n",
    "\n",
    "print(cov(income,internetusage))"
   ]
  },
  {
   "cell_type": "markdown",
   "metadata": {},
   "source": [
    "* "
   ]
  },
  {
   "cell_type": "code",
   "execution_count": 121,
   "metadata": {
    "ExecuteTime": {
     "end_time": "2020-03-10T06:14:43.791450Z",
     "start_time": "2020-03-10T06:14:41.025Z"
    }
   },
   "outputs": [
    {
     "data": {
      "text/html": [
       "0.310954412522883"
      ],
      "text/latex": [
       "0.310954412522883"
      ],
      "text/markdown": [
       "0.310954412522883"
      ],
      "text/plain": [
       "[1] 0.3109544"
      ]
     },
     "metadata": {},
     "output_type": "display_data"
    }
   ],
   "source": [
    "cor(income,timespent)"
   ]
  },
  {
   "cell_type": "code",
   "execution_count": null,
   "metadata": {},
   "outputs": [],
   "source": []
  },
  {
   "cell_type": "code",
   "execution_count": 122,
   "metadata": {
    "ExecuteTime": {
     "end_time": "2020-03-10T06:14:43.854279Z",
     "start_time": "2020-03-10T06:14:41.037Z"
    }
   },
   "outputs": [
    {
     "data": {
      "text/html": [
       "0.518658475337186"
      ],
      "text/latex": [
       "0.518658475337186"
      ],
      "text/markdown": [
       "0.518658475337186"
      ],
      "text/plain": [
       "[1] 0.5186585"
      ]
     },
     "metadata": {},
     "output_type": "display_data"
    }
   ],
   "source": [
    "cor(timespent,internetusage)"
   ]
  },
  {
   "cell_type": "markdown",
   "metadata": {},
   "source": [
    "* the timespent on site and internetusage columns seem to have some medium degree of correlation with each other"
   ]
  },
  {
   "cell_type": "code",
   "execution_count": 123,
   "metadata": {
    "ExecuteTime": {
     "end_time": "2020-03-10T06:14:43.914125Z",
     "start_time": "2020-03-10T06:14:41.047Z"
    }
   },
   "outputs": [
    {
     "data": {
      "text/html": [
       "0.337495532865276"
      ],
      "text/latex": [
       "0.337495532865276"
      ],
      "text/markdown": [
       "0.337495532865276"
      ],
      "text/plain": [
       "[1] 0.3374955"
      ]
     },
     "metadata": {},
     "output_type": "display_data"
    }
   ],
   "source": [
    "cor(income,internetusage)"
   ]
  },
  {
   "cell_type": "code",
   "execution_count": null,
   "metadata": {},
   "outputs": [],
   "source": []
  },
  {
   "cell_type": "code",
   "execution_count": 124,
   "metadata": {
    "ExecuteTime": {
     "end_time": "2020-03-10T06:14:44.175422Z",
     "start_time": "2020-03-10T06:14:41.062Z"
    },
    "scrolled": false
   },
   "outputs": [
    {
     "data": {
      "image/png": "[encoded data removed]",
      "text/plain": [
       "plot without title"
      ]
     },
     "metadata": {},
     "output_type": "display_data"
    }
   ],
   "source": [
    "plot(income,internetusage,col=\"darkblue\")"
   ]
  },
  {
   "cell_type": "markdown",
   "metadata": {},
   "source": [
    "* above it appears that the higher the income an individual has the more minutes in a day they use the internet\n",
    "* it also appears that individuals with an income of between 40,000 and 60,000 are the ones who use the internet the least\n",
    "* this could mean that the higher earning individuals are professionals or managers who might have more free time to allocate to using the internet as oppossed to the lesser earnign individuals"
   ]
  },
  {
   "cell_type": "code",
   "execution_count": 125,
   "metadata": {
    "ExecuteTime": {
     "end_time": "2020-03-10T06:14:44.424753Z",
     "start_time": "2020-03-10T06:14:41.073Z"
    }
   },
   "outputs": [
    {
     "data": {
      "image/png": "[encoded data removed]",
      "text/plain": [
       "plot without title"
      ]
     },
     "metadata": {},
     "output_type": "display_data"
    }
   ],
   "source": [
    "plot(timespent,internetusage,col= \"purple\")"
   ]
  },
  {
   "cell_type": "markdown",
   "metadata": {},
   "source": [
    "* above their appears to be a clear correlation showing the less amount of time somebody used the internet the less time they spent on the platform and vice versa"
   ]
  },
  {
   "cell_type": "code",
   "execution_count": 126,
   "metadata": {
    "ExecuteTime": {
     "end_time": "2020-03-10T06:14:44.626216Z",
     "start_time": "2020-03-10T06:14:41.083Z"
    }
   },
   "outputs": [
    {
     "data": {
      "image/png": "[encoded data removed]",
      "text/plain": [
       "plot without title"
      ]
     },
     "metadata": {},
     "output_type": "display_data"
    }
   ],
   "source": [
    "plot(income,timespent,col=\"orange\")"
   ]
  },
  {
   "cell_type": "markdown",
   "metadata": {},
   "source": [
    "* the scatterplot above indicates the previous data we have observed above about higher income individuals spending more time on the platform"
   ]
  },
  {
   "cell_type": "code",
   "execution_count": 127,
   "metadata": {
    "ExecuteTime": {
     "end_time": "2020-03-10T06:14:44.700017Z",
     "start_time": "2020-03-10T06:14:41.096Z"
    }
   },
   "outputs": [],
   "source": [
    "df1 <- df %>%\n",
    "        select(\"Daily.Time.Spent.on.Site\",\"Age\",\"Area.Income\",\"Daily.Internet.Usage\")# subsetting the dataset and selecting only the numeric columns for analysis"
   ]
  },
  {
   "cell_type": "code",
   "execution_count": 128,
   "metadata": {
    "ExecuteTime": {
     "end_time": "2020-03-10T06:14:44.776811Z",
     "start_time": "2020-03-10T06:14:41.106Z"
    }
   },
   "outputs": [
    {
     "data": {
      "text/html": [
       "<table>\n",
       "<thead><tr><th></th><th scope=col>Daily.Time.Spent.on.Site</th><th scope=col>Age</th><th scope=col>Area.Income</th><th scope=col>Daily.Internet.Usage</th></tr></thead>\n",
       "<tbody>\n",
       "\t<tr><th scope=row>Daily.Time.Spent.on.Site</th><td> 1.0000000</td><td>-0.3168616</td><td> 0.2831344</td><td> 0.5141081</td></tr>\n",
       "\t<tr><th scope=row>Age</th><td>-0.3168616</td><td> 1.0000000</td><td>-0.1359540</td><td>-0.3708639</td></tr>\n",
       "\t<tr><th scope=row>Area.Income</th><td> 0.2831344</td><td>-0.1359540</td><td> 1.0000000</td><td> 0.3391602</td></tr>\n",
       "\t<tr><th scope=row>Daily.Internet.Usage</th><td> 0.5141081</td><td>-0.3708639</td><td> 0.3391602</td><td> 1.0000000</td></tr>\n",
       "</tbody>\n",
       "</table>\n"
      ],
      "text/latex": [
       "\\begin{tabular}{r|llll}\n",
       "  & Daily.Time.Spent.on.Site & Age & Area.Income & Daily.Internet.Usage\\\\\n",
       "\\hline\n",
       "\tDaily.Time.Spent.on.Site &  1.0000000 & -0.3168616 &  0.2831344 &  0.5141081\\\\\n",
       "\tAge & -0.3168616 &  1.0000000 & -0.1359540 & -0.3708639\\\\\n",
       "\tArea.Income &  0.2831344 & -0.1359540 &  1.0000000 &  0.3391602\\\\\n",
       "\tDaily.Internet.Usage &  0.5141081 & -0.3708639 &  0.3391602 &  1.0000000\\\\\n",
       "\\end{tabular}\n"
      ],
      "text/markdown": [
       "\n",
       "| <!--/--> | Daily.Time.Spent.on.Site | Age | Area.Income | Daily.Internet.Usage |\n",
       "|---|---|---|---|---|\n",
       "| Daily.Time.Spent.on.Site |  1.0000000 | -0.3168616 |  0.2831344 |  0.5141081 |\n",
       "| Age | -0.3168616 |  1.0000000 | -0.1359540 | -0.3708639 |\n",
       "| Area.Income |  0.2831344 | -0.1359540 |  1.0000000 |  0.3391602 |\n",
       "| Daily.Internet.Usage |  0.5141081 | -0.3708639 |  0.3391602 |  1.0000000 |\n",
       "\n"
      ],
      "text/plain": [
       "                         Daily.Time.Spent.on.Site Age        Area.Income\n",
       "Daily.Time.Spent.on.Site  1.0000000               -0.3168616  0.2831344 \n",
       "Age                      -0.3168616                1.0000000 -0.1359540 \n",
       "Area.Income               0.2831344               -0.1359540  1.0000000 \n",
       "Daily.Internet.Usage      0.5141081               -0.3708639  0.3391602 \n",
       "                         Daily.Internet.Usage\n",
       "Daily.Time.Spent.on.Site  0.5141081          \n",
       "Age                      -0.3708639          \n",
       "Area.Income               0.3391602          \n",
       "Daily.Internet.Usage      1.0000000          "
      ]
     },
     "metadata": {},
     "output_type": "display_data"
    }
   ],
   "source": [
    "spearman <- cor(df1,method = c(\"spearman\")) #calculating the spearman coefficient of the numeric variables\n",
    "spearman"
   ]
  },
  {
   "cell_type": "markdown",
   "metadata": {},
   "source": [
    "* the coefficients indicate somewhat high degrees of correlation between the internet usage and timespent on site \n",
    "* no other variables seem to have high degrees of correlation"
   ]
  },
  {
   "cell_type": "code",
   "execution_count": 129,
   "metadata": {
    "ExecuteTime": {
     "end_time": "2020-03-10T06:14:44.977276Z",
     "start_time": "2020-03-10T06:14:41.120Z"
    }
   },
   "outputs": [
    {
     "data": {
      "image/png": "[encoded data removed]",
      "text/plain": [
       "Plot with title \"\""
      ]
     },
     "metadata": {},
     "output_type": "display_data"
    }
   ],
   "source": [
    "corrplot(cor(df1))"
   ]
  },
  {
   "cell_type": "markdown",
   "metadata": {},
   "source": [
    "* scatterplot of the numerical columns(r has some weird scatterplots)"
   ]
  },
  {
   "cell_type": "markdown",
   "metadata": {},
   "source": [
    "## Principal Component Analysis"
   ]
  },
  {
   "cell_type": "code",
   "execution_count": 130,
   "metadata": {
    "ExecuteTime": {
     "end_time": "2020-03-10T06:14:45.068039Z",
     "start_time": "2020-03-10T06:14:41.137Z"
    }
   },
   "outputs": [
    {
     "data": {
      "text/plain": [
       "Importance of components:\n",
       "                          Comp.1    Comp.2    Comp.3    Comp.4\n",
       "Standard deviation     1.4301799 0.9047446 0.8114198 0.6911009\n",
       "Proportion of Variance 0.5113536 0.2046407 0.1646005 0.1194051\n",
       "Cumulative Proportion  0.5113536 0.7159944 0.8805949 1.0000000"
      ]
     },
     "metadata": {},
     "output_type": "display_data"
    }
   ],
   "source": [
    "pca <- princomp(df1,scores=TRUE,cor=TRUE)\n",
    "summary(pca)"
   ]
  },
  {
   "cell_type": "code",
   "execution_count": 131,
   "metadata": {
    "ExecuteTime": {
     "end_time": "2020-03-10T06:14:45.192699Z",
     "start_time": "2020-03-10T06:14:41.149Z"
    }
   },
   "outputs": [
    {
     "data": {
      "image/png": "[encoded data removed]",
      "text/plain": [
       "Plot with title \"pca\""
      ]
     },
     "metadata": {},
     "output_type": "display_data"
    }
   ],
   "source": [
    "plot(pca,col=\"green\")"
   ]
  },
  {
   "cell_type": "markdown",
   "metadata": {},
   "source": [
    "* pca analysis of the numerical columns\n",
    "* it appears that the first component contributes of 51% to the overall variance which is enormous,infact the first 3 components explain 88% of the total variance "
   ]
  },
  {
   "cell_type": "markdown",
   "metadata": {},
   "source": [
    "## Modelling"
   ]
  },
  {
   "cell_type": "code",
   "execution_count": 132,
   "metadata": {
    "ExecuteTime": {
     "end_time": "2020-03-10T06:14:45.266502Z",
     "start_time": "2020-03-10T06:14:41.168Z"
    }
   },
   "outputs": [
    {
     "data": {
      "text/html": [
       "<table>\n",
       "<thead><tr><th scope=col>Daily.Time.Spent.on.Site</th><th scope=col>Age</th><th scope=col>Area.Income</th><th scope=col>Daily.Internet.Usage</th><th scope=col>Ad.Topic.Line</th><th scope=col>City</th><th scope=col>Male</th><th scope=col>Country</th><th scope=col>Timestamp</th><th scope=col>Clicked.on.Ad</th></tr></thead>\n",
       "<tbody>\n",
       "\t<tr><td>68.95                                </td><td>35                                   </td><td>61833.90                             </td><td>256.09                               </td><td>Cloned 5thgeneration orchestration   </td><td>Wrightburgh                          </td><td>0                                    </td><td>Tunisia                              </td><td>2016-03-27 00:53:11                  </td><td>0                                    </td></tr>\n",
       "\t<tr><td>80.23                                </td><td>31                                   </td><td>68441.85                             </td><td>193.77                               </td><td>Monitored national standardization   </td><td>West Jodi                            </td><td>1                                    </td><td>Nauru                                </td><td>2016-04-04 01:39:02                  </td><td>0                                    </td></tr>\n",
       "\t<tr><td>69.47                                </td><td>26                                   </td><td>59785.94                             </td><td>236.50                               </td><td>Organic bottom-line service-desk     </td><td>Davidton                             </td><td>0                                    </td><td>San Marino                           </td><td>2016-03-13 20:35:42                  </td><td>0                                    </td></tr>\n",
       "\t<tr><td>74.15                                </td><td>29                                   </td><td>54806.18                             </td><td>245.89                               </td><td>Triple-buffered reciprocal time-frame</td><td>West Terrifurt                       </td><td>1                                    </td><td>Italy                                </td><td>2016-01-10 02:31:19                  </td><td>0                                    </td></tr>\n",
       "\t<tr><td>68.37                                </td><td>35                                   </td><td>73889.99                             </td><td>225.58                               </td><td>Robust logistical utilization        </td><td>South Manuel                         </td><td>0                                    </td><td>Iceland                              </td><td>2016-06-03 03:36:18                  </td><td>0                                    </td></tr>\n",
       "\t<tr><td>59.99                                </td><td>23                                   </td><td>59761.56                             </td><td>226.74                               </td><td>Sharable client-driven software      </td><td>Jamieberg                            </td><td>1                                    </td><td>Norway                               </td><td>2016-05-19 14:30:17                  </td><td>0                                    </td></tr>\n",
       "</tbody>\n",
       "</table>\n"
      ],
      "text/latex": [
       "\\begin{tabular}{r|llllllllll}\n",
       " Daily.Time.Spent.on.Site & Age & Area.Income & Daily.Internet.Usage & Ad.Topic.Line & City & Male & Country & Timestamp & Clicked.on.Ad\\\\\n",
       "\\hline\n",
       "\t 68.95                                 & 35                                    & 61833.90                              & 256.09                                & Cloned 5thgeneration orchestration    & Wrightburgh                           & 0                                     & Tunisia                               & 2016-03-27 00:53:11                   & 0                                    \\\\\n",
       "\t 80.23                                 & 31                                    & 68441.85                              & 193.77                                & Monitored national standardization    & West Jodi                             & 1                                     & Nauru                                 & 2016-04-04 01:39:02                   & 0                                    \\\\\n",
       "\t 69.47                                 & 26                                    & 59785.94                              & 236.50                                & Organic bottom-line service-desk      & Davidton                              & 0                                     & San Marino                            & 2016-03-13 20:35:42                   & 0                                    \\\\\n",
       "\t 74.15                                 & 29                                    & 54806.18                              & 245.89                                & Triple-buffered reciprocal time-frame & West Terrifurt                        & 1                                     & Italy                                 & 2016-01-10 02:31:19                   & 0                                    \\\\\n",
       "\t 68.37                                 & 35                                    & 73889.99                              & 225.58                                & Robust logistical utilization         & South Manuel                          & 0                                     & Iceland                               & 2016-06-03 03:36:18                   & 0                                    \\\\\n",
       "\t 59.99                                 & 23                                    & 59761.56                              & 226.74                                & Sharable client-driven software       & Jamieberg                             & 1                                     & Norway                                & 2016-05-19 14:30:17                   & 0                                    \\\\\n",
       "\\end{tabular}\n"
      ],
      "text/markdown": [
       "\n",
       "| Daily.Time.Spent.on.Site | Age | Area.Income | Daily.Internet.Usage | Ad.Topic.Line | City | Male | Country | Timestamp | Clicked.on.Ad |\n",
       "|---|---|---|---|---|---|---|---|---|---|\n",
       "| 68.95                                 | 35                                    | 61833.90                              | 256.09                                | Cloned 5thgeneration orchestration    | Wrightburgh                           | 0                                     | Tunisia                               | 2016-03-27 00:53:11                   | 0                                     |\n",
       "| 80.23                                 | 31                                    | 68441.85                              | 193.77                                | Monitored national standardization    | West Jodi                             | 1                                     | Nauru                                 | 2016-04-04 01:39:02                   | 0                                     |\n",
       "| 69.47                                 | 26                                    | 59785.94                              | 236.50                                | Organic bottom-line service-desk      | Davidton                              | 0                                     | San Marino                            | 2016-03-13 20:35:42                   | 0                                     |\n",
       "| 74.15                                 | 29                                    | 54806.18                              | 245.89                                | Triple-buffered reciprocal time-frame | West Terrifurt                        | 1                                     | Italy                                 | 2016-01-10 02:31:19                   | 0                                     |\n",
       "| 68.37                                 | 35                                    | 73889.99                              | 225.58                                | Robust logistical utilization         | South Manuel                          | 0                                     | Iceland                               | 2016-06-03 03:36:18                   | 0                                     |\n",
       "| 59.99                                 | 23                                    | 59761.56                              | 226.74                                | Sharable client-driven software       | Jamieberg                             | 1                                     | Norway                                | 2016-05-19 14:30:17                   | 0                                     |\n",
       "\n"
      ],
      "text/plain": [
       "  Daily.Time.Spent.on.Site Age Area.Income Daily.Internet.Usage\n",
       "1 68.95                    35  61833.90    256.09              \n",
       "2 80.23                    31  68441.85    193.77              \n",
       "3 69.47                    26  59785.94    236.50              \n",
       "4 74.15                    29  54806.18    245.89              \n",
       "5 68.37                    35  73889.99    225.58              \n",
       "6 59.99                    23  59761.56    226.74              \n",
       "  Ad.Topic.Line                         City           Male Country   \n",
       "1 Cloned 5thgeneration orchestration    Wrightburgh    0    Tunisia   \n",
       "2 Monitored national standardization    West Jodi      1    Nauru     \n",
       "3 Organic bottom-line service-desk      Davidton       0    San Marino\n",
       "4 Triple-buffered reciprocal time-frame West Terrifurt 1    Italy     \n",
       "5 Robust logistical utilization         South Manuel   0    Iceland   \n",
       "6 Sharable client-driven software       Jamieberg      1    Norway    \n",
       "  Timestamp           Clicked.on.Ad\n",
       "1 2016-03-27 00:53:11 0            \n",
       "2 2016-04-04 01:39:02 0            \n",
       "3 2016-03-13 20:35:42 0            \n",
       "4 2016-01-10 02:31:19 0            \n",
       "5 2016-06-03 03:36:18 0            \n",
       "6 2016-05-19 14:30:17 0            "
      ]
     },
     "metadata": {},
     "output_type": "display_data"
    }
   ],
   "source": [
    "head(df)"
   ]
  },
  {
   "cell_type": "markdown",
   "metadata": {},
   "source": [
    "## Decision Tree Classifier"
   ]
  },
  {
   "cell_type": "code",
   "execution_count": 133,
   "metadata": {
    "ExecuteTime": {
     "end_time": "2020-03-10T06:14:45.331336Z",
     "start_time": "2020-03-10T06:14:41.179Z"
    }
   },
   "outputs": [
    {
     "data": {
      "text/html": [
       "<dl class=dl-horizontal>\n",
       "\t<dt>Daily.Time.Spent.on.Site</dt>\n",
       "\t\t<dd>'numeric'</dd>\n",
       "\t<dt>Age</dt>\n",
       "\t\t<dd>'integer'</dd>\n",
       "\t<dt>Area.Income</dt>\n",
       "\t\t<dd>'numeric'</dd>\n",
       "\t<dt>Daily.Internet.Usage</dt>\n",
       "\t\t<dd>'numeric'</dd>\n",
       "\t<dt>Ad.Topic.Line</dt>\n",
       "\t\t<dd>'factor'</dd>\n",
       "\t<dt>City</dt>\n",
       "\t\t<dd>'factor'</dd>\n",
       "\t<dt>Male</dt>\n",
       "\t\t<dd>'integer'</dd>\n",
       "\t<dt>Country</dt>\n",
       "\t\t<dd>'factor'</dd>\n",
       "\t<dt>Timestamp</dt>\n",
       "\t\t<dd>'factor'</dd>\n",
       "\t<dt>Clicked.on.Ad</dt>\n",
       "\t\t<dd>'factor'</dd>\n",
       "</dl>\n"
      ],
      "text/latex": [
       "\\begin{description*}\n",
       "\\item[Daily.Time.Spent.on.Site] 'numeric'\n",
       "\\item[Age] 'integer'\n",
       "\\item[Area.Income] 'numeric'\n",
       "\\item[Daily.Internet.Usage] 'numeric'\n",
       "\\item[Ad.Topic.Line] 'factor'\n",
       "\\item[City] 'factor'\n",
       "\\item[Male] 'integer'\n",
       "\\item[Country] 'factor'\n",
       "\\item[Timestamp] 'factor'\n",
       "\\item[Clicked.on.Ad] 'factor'\n",
       "\\end{description*}\n"
      ],
      "text/markdown": [
       "Daily.Time.Spent.on.Site\n",
       ":   'numeric'Age\n",
       ":   'integer'Area.Income\n",
       ":   'numeric'Daily.Internet.Usage\n",
       ":   'numeric'Ad.Topic.Line\n",
       ":   'factor'City\n",
       ":   'factor'Male\n",
       ":   'integer'Country\n",
       ":   'factor'Timestamp\n",
       ":   'factor'Clicked.on.Ad\n",
       ":   'factor'\n",
       "\n"
      ],
      "text/plain": [
       "Daily.Time.Spent.on.Site                      Age              Area.Income \n",
       "               \"numeric\"                \"integer\"                \"numeric\" \n",
       "    Daily.Internet.Usage            Ad.Topic.Line                     City \n",
       "               \"numeric\"                 \"factor\"                 \"factor\" \n",
       "                    Male                  Country                Timestamp \n",
       "               \"integer\"                 \"factor\"                 \"factor\" \n",
       "           Clicked.on.Ad \n",
       "                \"factor\" "
      ]
     },
     "metadata": {},
     "output_type": "display_data"
    }
   ],
   "source": [
    "df$Clicked.on.Ad <- factor(df$Clicked.on.Ad, levels = c(0,1))\n",
    "\n",
    "sapply(df, class)"
   ]
  },
  {
   "cell_type": "code",
   "execution_count": 134,
   "metadata": {
    "ExecuteTime": {
     "end_time": "2020-03-10T06:14:45.439054Z",
     "start_time": "2020-03-10T06:14:41.189Z"
    }
   },
   "outputs": [],
   "source": [
    "tree <- rpart(Clicked.on.Ad ~ . , \n",
    "    data = df, \n",
    "    method = \"class\")\n",
    "\n",
    "# model <- train(Clicked.on.Ad~.,\n",
    "#               data = df,\n",
    "#               method = \"ranger\")"
   ]
  },
  {
   "cell_type": "code",
   "execution_count": 135,
   "metadata": {
    "ExecuteTime": {
     "end_time": "2020-03-10T06:14:48.423058Z",
     "start_time": "2020-03-10T06:14:41.198Z"
    }
   },
   "outputs": [
    {
     "data": {
      "image/png": "[encoded data removed]",
      "text/plain": [
       "plot without title"
      ]
     },
     "metadata": {},
     "output_type": "display_data"
    }
   ],
   "source": [
    "rpart.plot(tree)"
   ]
  },
  {
   "cell_type": "code",
   "execution_count": 136,
   "metadata": {
    "ExecuteTime": {
     "end_time": "2020-03-10T06:14:48.518816Z",
     "start_time": "2020-03-10T06:14:41.205Z"
    }
   },
   "outputs": [
    {
     "data": {
      "text/plain": [
       "    \n",
       "pred   0   1\n",
       "   0 500   0\n",
       "   1   0 500"
      ]
     },
     "metadata": {},
     "output_type": "display_data"
    }
   ],
   "source": [
    "pred <- predict(tree, df, type =\"class\")\n",
    "table(pred, df$Clicked.on.Ad)"
   ]
  },
  {
   "cell_type": "code",
   "execution_count": 138,
   "metadata": {
    "ExecuteTime": {
     "end_time": "2020-03-10T06:15:19.525865Z",
     "start_time": "2020-03-10T06:15:00.881Z"
    }
   },
   "outputs": [
    {
     "data": {
      "text/html": [
       "1"
      ],
      "text/latex": [
       "1"
      ],
      "text/markdown": [
       "1"
      ],
      "text/plain": [
       "[1] 1"
      ]
     },
     "metadata": {},
     "output_type": "display_data"
    }
   ],
   "source": [
    "mean(df$Clicked.on.Ad == pred)"
   ]
  },
  {
   "cell_type": "code",
   "execution_count": 140,
   "metadata": {
    "ExecuteTime": {
     "end_time": "2020-03-10T06:18:22.926785Z",
     "start_time": "2020-03-10T06:18:22.208Z"
    }
   },
   "outputs": [
    {
     "name": "stdout",
     "output_type": "stream",
     "text": [
      "2 packages are needed for this model and are not installed. (e1071, ranger). Would you like to try to install them now?"
     ]
    },
    {
     "ename": "ERROR",
     "evalue": "Error: Required package is missing\n",
     "output_type": "error",
     "traceback": [
      "Error: Required package is missing\nTraceback:\n",
      "1. train(Clicked.on.Ad ~ ., data = df, method = \"ranger\")",
      "2. train.formula(Clicked.on.Ad ~ ., data = df, method = \"ranger\")",
      "3. train(x, y, weights = w, ...)",
      "4. train.default(x, y, weights = w, ...)",
      "5. checkInstall(models$library)",
      "6. stop(\"Required package is missing\", call. = FALSE)"
     ]
    }
   ],
   "source": [
    "set.seed(12)\n",
    "\n",
    "model <- train(Clicked.on.Ad ~ .,\n",
    "              data = df,\n",
    "              method = \"ranger\")"
   ]
  },
  {
   "cell_type": "code",
   "execution_count": null,
   "metadata": {},
   "outputs": [],
   "source": []
  },
  {
   "cell_type": "code",
   "execution_count": null,
   "metadata": {},
   "outputs": [],
   "source": []
  },
  {
   "cell_type": "markdown",
   "metadata": {},
   "source": []
  },
  {
   "cell_type": "markdown",
   "metadata": {},
   "source": []
  }
 ],
 "metadata": {
  "kernelspec": {
   "display_name": "R",
   "language": "R",
   "name": "ir"
  },
  "language_info": {
   "codemirror_mode": "r",
   "file_extension": ".r",
   "mimetype": "text/x-r-source",
   "name": "R",
   "pygments_lexer": "r",
   "version": "3.6.1"
  },
  "toc": {
   "base_numbering": 1,
   "nav_menu": {},
   "number_sections": true,
   "sideBar": true,
   "skip_h1_title": false,
   "title_cell": "Table of Contents",
   "title_sidebar": "Contents",
   "toc_cell": false,
   "toc_position": {},
   "toc_section_display": true,
   "toc_window_display": false
  },
  "varInspector": {
   "cols": {
    "lenName": 16,
    "lenType": 16,
    "lenVar": 40
   },
   "kernels_config": {
    "python": {
     "delete_cmd_postfix": "",
     "delete_cmd_prefix": "del ",
     "library": "var_list.py",
     "varRefreshCmd": "print(var_dic_list())"
    },
    "r": {
     "delete_cmd_postfix": ") ",
     "delete_cmd_prefix": "rm(",
     "library": "var_list.r",
     "varRefreshCmd": "cat(var_dic_list()) "
    }
   },
   "types_to_exclude": [
    "module",
    "function",
    "builtin_function_or_method",
    "instance",
    "_Feature"
   ],
   "window_display": false
  }
 },
 "nbformat": 4,
 "nbformat_minor": 2
}
